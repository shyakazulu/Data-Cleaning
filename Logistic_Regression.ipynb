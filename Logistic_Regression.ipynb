{
 "cells": [
  {
   "cell_type": "markdown",
   "metadata": {},
   "source": [
    "# TITANIC : Logistic Regression\n",
    "## Goal - Predict who surivies and who doesn't"
   ]
  },
  {
   "cell_type": "markdown",
   "metadata": {},
   "source": [
    "<img src=\"titanic_image.jpg\">"
   ]
  },
  {
   "cell_type": "markdown",
   "metadata": {},
   "source": [
    "- Source(https://bit.ly/35w815L)"
   ]
  },
  {
   "cell_type": "code",
   "execution_count": 1,
   "metadata": {},
   "outputs": [],
   "source": [
    "import numpy as np\n",
    "import pandas as pd\n",
    "import seaborn as sb\n",
    "import matplotlib.pyplot as plt\n",
    "import sklearn\n",
    "\n",
    "from pandas import Series, DataFrame\n",
    "from pylab import rcParams\n",
    "from sklearn import preprocessing"
   ]
  },
  {
   "cell_type": "code",
   "execution_count": 2,
   "metadata": {},
   "outputs": [],
   "source": [
    "from sklearn.linear_model import LogisticRegression\n",
    "from sklearn.model_selection import train_test_split\n",
    "from sklearn.model_selection import cross_val_predict\n",
    "\n",
    "from sklearn import metrics\n",
    "from sklearn.metrics import classification_report\n",
    "from sklearn.metrics import confusion_matrix\n",
    "from sklearn.metrics import precision_score, recall_score"
   ]
  },
  {
   "cell_type": "code",
   "execution_count": 3,
   "metadata": {},
   "outputs": [],
   "source": [
    "%matplotlib inline\n",
    "rcParams['figure.figsize'] = 5, 4\n",
    "sb.set_style('whitegrid')"
   ]
  },
  {
   "cell_type": "markdown",
   "metadata": {},
   "source": [
    "## Dataset"
   ]
  },
  {
   "cell_type": "code",
   "execution_count": 5,
   "metadata": {},
   "outputs": [
    {
     "data": {
      "text/html": [
       "<div>\n",
       "<style scoped>\n",
       "    .dataframe tbody tr th:only-of-type {\n",
       "        vertical-align: middle;\n",
       "    }\n",
       "\n",
       "    .dataframe tbody tr th {\n",
       "        vertical-align: top;\n",
       "    }\n",
       "\n",
       "    .dataframe thead th {\n",
       "        text-align: right;\n",
       "    }\n",
       "</style>\n",
       "<table border=\"1\" class=\"dataframe\">\n",
       "  <thead>\n",
       "    <tr style=\"text-align: right;\">\n",
       "      <th></th>\n",
       "      <th>PassengerId</th>\n",
       "      <th>Survived</th>\n",
       "      <th>Pclass</th>\n",
       "      <th>Name</th>\n",
       "      <th>Sex</th>\n",
       "      <th>Age</th>\n",
       "      <th>SibSp</th>\n",
       "      <th>Parch</th>\n",
       "      <th>Ticket</th>\n",
       "      <th>Fare</th>\n",
       "      <th>Cabin</th>\n",
       "      <th>Embarked</th>\n",
       "    </tr>\n",
       "  </thead>\n",
       "  <tbody>\n",
       "    <tr>\n",
       "      <th>0</th>\n",
       "      <td>1</td>\n",
       "      <td>0</td>\n",
       "      <td>3</td>\n",
       "      <td>Braund, Mr. Owen Harris</td>\n",
       "      <td>male</td>\n",
       "      <td>22.0</td>\n",
       "      <td>1</td>\n",
       "      <td>0</td>\n",
       "      <td>A/5 21171</td>\n",
       "      <td>7.2500</td>\n",
       "      <td>NaN</td>\n",
       "      <td>S</td>\n",
       "    </tr>\n",
       "    <tr>\n",
       "      <th>1</th>\n",
       "      <td>2</td>\n",
       "      <td>1</td>\n",
       "      <td>1</td>\n",
       "      <td>Cumings, Mrs. John Bradley (Florence Briggs Th...</td>\n",
       "      <td>female</td>\n",
       "      <td>38.0</td>\n",
       "      <td>1</td>\n",
       "      <td>0</td>\n",
       "      <td>PC 17599</td>\n",
       "      <td>71.2833</td>\n",
       "      <td>C85</td>\n",
       "      <td>C</td>\n",
       "    </tr>\n",
       "    <tr>\n",
       "      <th>2</th>\n",
       "      <td>3</td>\n",
       "      <td>1</td>\n",
       "      <td>3</td>\n",
       "      <td>Heikkinen, Miss. Laina</td>\n",
       "      <td>female</td>\n",
       "      <td>26.0</td>\n",
       "      <td>0</td>\n",
       "      <td>0</td>\n",
       "      <td>STON/O2. 3101282</td>\n",
       "      <td>7.9250</td>\n",
       "      <td>NaN</td>\n",
       "      <td>S</td>\n",
       "    </tr>\n",
       "    <tr>\n",
       "      <th>3</th>\n",
       "      <td>4</td>\n",
       "      <td>1</td>\n",
       "      <td>1</td>\n",
       "      <td>Futrelle, Mrs. Jacques Heath (Lily May Peel)</td>\n",
       "      <td>female</td>\n",
       "      <td>35.0</td>\n",
       "      <td>1</td>\n",
       "      <td>0</td>\n",
       "      <td>113803</td>\n",
       "      <td>53.1000</td>\n",
       "      <td>C123</td>\n",
       "      <td>S</td>\n",
       "    </tr>\n",
       "    <tr>\n",
       "      <th>4</th>\n",
       "      <td>5</td>\n",
       "      <td>0</td>\n",
       "      <td>3</td>\n",
       "      <td>Allen, Mr. William Henry</td>\n",
       "      <td>male</td>\n",
       "      <td>35.0</td>\n",
       "      <td>0</td>\n",
       "      <td>0</td>\n",
       "      <td>373450</td>\n",
       "      <td>8.0500</td>\n",
       "      <td>NaN</td>\n",
       "      <td>S</td>\n",
       "    </tr>\n",
       "  </tbody>\n",
       "</table>\n",
       "</div>"
      ],
      "text/plain": [
       "   PassengerId  Survived  Pclass  \\\n",
       "0            1         0       3   \n",
       "1            2         1       1   \n",
       "2            3         1       3   \n",
       "3            4         1       1   \n",
       "4            5         0       3   \n",
       "\n",
       "                                                Name     Sex   Age  SibSp  \\\n",
       "0                            Braund, Mr. Owen Harris    male  22.0      1   \n",
       "1  Cumings, Mrs. John Bradley (Florence Briggs Th...  female  38.0      1   \n",
       "2                             Heikkinen, Miss. Laina  female  26.0      0   \n",
       "3       Futrelle, Mrs. Jacques Heath (Lily May Peel)  female  35.0      1   \n",
       "4                           Allen, Mr. William Henry    male  35.0      0   \n",
       "\n",
       "   Parch            Ticket     Fare Cabin Embarked  \n",
       "0      0         A/5 21171   7.2500   NaN        S  \n",
       "1      0          PC 17599  71.2833   C85        C  \n",
       "2      0  STON/O2. 3101282   7.9250   NaN        S  \n",
       "3      0            113803  53.1000  C123        S  \n",
       "4      0            373450   8.0500   NaN        S  "
      ]
     },
     "execution_count": 5,
     "metadata": {},
     "output_type": "execute_result"
    }
   ],
   "source": [
    "tit = pd.read_csv('titanic-training-data.csv')\n",
    "tit.head()"
   ]
  },
  {
   "cell_type": "code",
   "execution_count": null,
   "metadata": {},
   "outputs": [],
   "source": []
  },
  {
   "cell_type": "markdown",
   "metadata": {},
   "source": [
    "## FEATURES\n",
    "\n",
    "Survived - Survival (0 = No; 1 = Yes)<br>\n",
    "Pclass - Passenger Class (1 = 1st; 2 = 2nd; 3 = 3rd)<br>\n",
    "Name - Name<br>\n",
    "Sex - Sex<br>\n",
    "Age - Age<br>\n",
    "SibSp - Number of Siblings/Spouses Aboard<br>\n",
    "Parch - Number of Parents/Children Aboard<br>\n",
    "Ticket - Ticket Number<br>\n",
    "Fare - Passenger Fare (British pound)<br>\n",
    "Cabin - Cabin<br>\n",
    "Embarked - Port of Embarkation (C = Cherbourg, France; Q = Queenstown, UK; S = Southampton - Cobh, Ireland)"
   ]
  },
  {
   "cell_type": "markdown",
   "metadata": {},
   "source": [
    "### Is our target variable binary?"
   ]
  },
  {
   "cell_type": "code",
   "execution_count": 6,
   "metadata": {},
   "outputs": [
    {
     "data": {
      "text/plain": [
       "<matplotlib.axes._subplots.AxesSubplot at 0x297a1761828>"
      ]
     },
     "execution_count": 6,
     "metadata": {},
     "output_type": "execute_result"
    },
    {
     "data": {
      "image/png": "[encoded data removed]",
      "text/plain": [
       "<Figure size 360x288 with 1 Axes>"
      ]
     },
     "metadata": {},
     "output_type": "display_data"
    }
   ],
   "source": [
    "sb.countplot(x='Survived', data=tit, palette ='hls')"
   ]
  },
  {
   "cell_type": "markdown",
   "metadata": {},
   "source": [
    "## Checking for missing values"
   ]
  },
  {
   "cell_type": "code",
   "execution_count": 9,
   "metadata": {},
   "outputs": [
    {
     "data": {
      "text/plain": [
       "PassengerId    False\n",
       "Survived       False\n",
       "Pclass         False\n",
       "Name           False\n",
       "Sex            False\n",
       "Age             True\n",
       "SibSp          False\n",
       "Parch          False\n",
       "Ticket         False\n",
       "Fare           False\n",
       "Cabin           True\n",
       "Embarked        True\n",
       "dtype: bool"
      ]
     },
     "execution_count": 9,
     "metadata": {},
     "output_type": "execute_result"
    }
   ],
   "source": [
    "tit.isnull().any()"
   ]
  },
  {
   "cell_type": "code",
   "execution_count": 10,
   "metadata": {},
   "outputs": [
    {
     "data": {
      "text/plain": [
       "PassengerId      0\n",
       "Survived         0\n",
       "Pclass           0\n",
       "Name             0\n",
       "Sex              0\n",
       "Age            177\n",
       "SibSp            0\n",
       "Parch            0\n",
       "Ticket           0\n",
       "Fare             0\n",
       "Cabin          687\n",
       "Embarked         2\n",
       "dtype: int64"
      ]
     },
     "execution_count": 10,
     "metadata": {},
     "output_type": "execute_result"
    }
   ],
   "source": [
    "tit.isnull().sum()"
   ]
  },
  {
   "cell_type": "code",
   "execution_count": 11,
   "metadata": {},
   "outputs": [
    {
     "data": {
      "text/html": [
       "<div>\n",
       "<style scoped>\n",
       "    .dataframe tbody tr th:only-of-type {\n",
       "        vertical-align: middle;\n",
       "    }\n",
       "\n",
       "    .dataframe tbody tr th {\n",
       "        vertical-align: top;\n",
       "    }\n",
       "\n",
       "    .dataframe thead th {\n",
       "        text-align: right;\n",
       "    }\n",
       "</style>\n",
       "<table border=\"1\" class=\"dataframe\">\n",
       "  <thead>\n",
       "    <tr style=\"text-align: right;\">\n",
       "      <th></th>\n",
       "      <th>PassengerId</th>\n",
       "      <th>Survived</th>\n",
       "      <th>Pclass</th>\n",
       "      <th>Age</th>\n",
       "      <th>SibSp</th>\n",
       "      <th>Parch</th>\n",
       "      <th>Fare</th>\n",
       "    </tr>\n",
       "  </thead>\n",
       "  <tbody>\n",
       "    <tr>\n",
       "      <th>count</th>\n",
       "      <td>891.000000</td>\n",
       "      <td>891.000000</td>\n",
       "      <td>891.000000</td>\n",
       "      <td>714.000000</td>\n",
       "      <td>891.000000</td>\n",
       "      <td>891.000000</td>\n",
       "      <td>891.000000</td>\n",
       "    </tr>\n",
       "    <tr>\n",
       "      <th>mean</th>\n",
       "      <td>446.000000</td>\n",
       "      <td>0.383838</td>\n",
       "      <td>2.308642</td>\n",
       "      <td>29.699118</td>\n",
       "      <td>0.523008</td>\n",
       "      <td>0.381594</td>\n",
       "      <td>32.204208</td>\n",
       "    </tr>\n",
       "    <tr>\n",
       "      <th>std</th>\n",
       "      <td>257.353842</td>\n",
       "      <td>0.486592</td>\n",
       "      <td>0.836071</td>\n",
       "      <td>14.526497</td>\n",
       "      <td>1.102743</td>\n",
       "      <td>0.806057</td>\n",
       "      <td>49.693429</td>\n",
       "    </tr>\n",
       "    <tr>\n",
       "      <th>min</th>\n",
       "      <td>1.000000</td>\n",
       "      <td>0.000000</td>\n",
       "      <td>1.000000</td>\n",
       "      <td>0.420000</td>\n",
       "      <td>0.000000</td>\n",
       "      <td>0.000000</td>\n",
       "      <td>0.000000</td>\n",
       "    </tr>\n",
       "    <tr>\n",
       "      <th>25%</th>\n",
       "      <td>223.500000</td>\n",
       "      <td>0.000000</td>\n",
       "      <td>2.000000</td>\n",
       "      <td>20.125000</td>\n",
       "      <td>0.000000</td>\n",
       "      <td>0.000000</td>\n",
       "      <td>7.910400</td>\n",
       "    </tr>\n",
       "    <tr>\n",
       "      <th>50%</th>\n",
       "      <td>446.000000</td>\n",
       "      <td>0.000000</td>\n",
       "      <td>3.000000</td>\n",
       "      <td>28.000000</td>\n",
       "      <td>0.000000</td>\n",
       "      <td>0.000000</td>\n",
       "      <td>14.454200</td>\n",
       "    </tr>\n",
       "    <tr>\n",
       "      <th>75%</th>\n",
       "      <td>668.500000</td>\n",
       "      <td>1.000000</td>\n",
       "      <td>3.000000</td>\n",
       "      <td>38.000000</td>\n",
       "      <td>1.000000</td>\n",
       "      <td>0.000000</td>\n",
       "      <td>31.000000</td>\n",
       "    </tr>\n",
       "    <tr>\n",
       "      <th>max</th>\n",
       "      <td>891.000000</td>\n",
       "      <td>1.000000</td>\n",
       "      <td>3.000000</td>\n",
       "      <td>80.000000</td>\n",
       "      <td>8.000000</td>\n",
       "      <td>6.000000</td>\n",
       "      <td>512.329200</td>\n",
       "    </tr>\n",
       "  </tbody>\n",
       "</table>\n",
       "</div>"
      ],
      "text/plain": [
       "       PassengerId    Survived      Pclass         Age       SibSp  \\\n",
       "count   891.000000  891.000000  891.000000  714.000000  891.000000   \n",
       "mean    446.000000    0.383838    2.308642   29.699118    0.523008   \n",
       "std     257.353842    0.486592    0.836071   14.526497    1.102743   \n",
       "min       1.000000    0.000000    1.000000    0.420000    0.000000   \n",
       "25%     223.500000    0.000000    2.000000   20.125000    0.000000   \n",
       "50%     446.000000    0.000000    3.000000   28.000000    0.000000   \n",
       "75%     668.500000    1.000000    3.000000   38.000000    1.000000   \n",
       "max     891.000000    1.000000    3.000000   80.000000    8.000000   \n",
       "\n",
       "            Parch        Fare  \n",
       "count  891.000000  891.000000  \n",
       "mean     0.381594   32.204208  \n",
       "std      0.806057   49.693429  \n",
       "min      0.000000    0.000000  \n",
       "25%      0.000000    7.910400  \n",
       "50%      0.000000   14.454200  \n",
       "75%      0.000000   31.000000  \n",
       "max      6.000000  512.329200  "
      ]
     },
     "execution_count": 11,
     "metadata": {},
     "output_type": "execute_result"
    }
   ],
   "source": [
    "tit.describe()"
   ]
  },
  {
   "cell_type": "markdown",
   "metadata": {},
   "source": [
    "## Treating missing values"
   ]
  },
  {
   "cell_type": "code",
   "execution_count": 12,
   "metadata": {},
   "outputs": [
    {
     "data": {
      "text/plain": [
       "Index(['PassengerId', 'Survived', 'Pclass', 'Name', 'Sex', 'Age', 'SibSp',\n",
       "       'Parch', 'Ticket', 'Fare', 'Cabin', 'Embarked'],\n",
       "      dtype='object')"
      ]
     },
     "execution_count": 12,
     "metadata": {},
     "output_type": "execute_result"
    }
   ],
   "source": [
    "tit.columns"
   ]
  },
  {
   "cell_type": "code",
   "execution_count": 13,
   "metadata": {},
   "outputs": [
    {
     "data": {
      "text/html": [
       "<div>\n",
       "<style scoped>\n",
       "    .dataframe tbody tr th:only-of-type {\n",
       "        vertical-align: middle;\n",
       "    }\n",
       "\n",
       "    .dataframe tbody tr th {\n",
       "        vertical-align: top;\n",
       "    }\n",
       "\n",
       "    .dataframe thead th {\n",
       "        text-align: right;\n",
       "    }\n",
       "</style>\n",
       "<table border=\"1\" class=\"dataframe\">\n",
       "  <thead>\n",
       "    <tr style=\"text-align: right;\">\n",
       "      <th></th>\n",
       "      <th>PassengerId</th>\n",
       "      <th>Survived</th>\n",
       "      <th>Pclass</th>\n",
       "      <th>Sex</th>\n",
       "      <th>Age</th>\n",
       "      <th>SibSp</th>\n",
       "      <th>Parch</th>\n",
       "      <th>Fare</th>\n",
       "      <th>Embarked</th>\n",
       "    </tr>\n",
       "  </thead>\n",
       "  <tbody>\n",
       "    <tr>\n",
       "      <th>0</th>\n",
       "      <td>1</td>\n",
       "      <td>0</td>\n",
       "      <td>3</td>\n",
       "      <td>male</td>\n",
       "      <td>22.0</td>\n",
       "      <td>1</td>\n",
       "      <td>0</td>\n",
       "      <td>7.2500</td>\n",
       "      <td>S</td>\n",
       "    </tr>\n",
       "    <tr>\n",
       "      <th>1</th>\n",
       "      <td>2</td>\n",
       "      <td>1</td>\n",
       "      <td>1</td>\n",
       "      <td>female</td>\n",
       "      <td>38.0</td>\n",
       "      <td>1</td>\n",
       "      <td>0</td>\n",
       "      <td>71.2833</td>\n",
       "      <td>C</td>\n",
       "    </tr>\n",
       "    <tr>\n",
       "      <th>2</th>\n",
       "      <td>3</td>\n",
       "      <td>1</td>\n",
       "      <td>3</td>\n",
       "      <td>female</td>\n",
       "      <td>26.0</td>\n",
       "      <td>0</td>\n",
       "      <td>0</td>\n",
       "      <td>7.9250</td>\n",
       "      <td>S</td>\n",
       "    </tr>\n",
       "    <tr>\n",
       "      <th>3</th>\n",
       "      <td>4</td>\n",
       "      <td>1</td>\n",
       "      <td>1</td>\n",
       "      <td>female</td>\n",
       "      <td>35.0</td>\n",
       "      <td>1</td>\n",
       "      <td>0</td>\n",
       "      <td>53.1000</td>\n",
       "      <td>S</td>\n",
       "    </tr>\n",
       "    <tr>\n",
       "      <th>4</th>\n",
       "      <td>5</td>\n",
       "      <td>0</td>\n",
       "      <td>3</td>\n",
       "      <td>male</td>\n",
       "      <td>35.0</td>\n",
       "      <td>0</td>\n",
       "      <td>0</td>\n",
       "      <td>8.0500</td>\n",
       "      <td>S</td>\n",
       "    </tr>\n",
       "  </tbody>\n",
       "</table>\n",
       "</div>"
      ],
      "text/plain": [
       "   PassengerId  Survived  Pclass     Sex   Age  SibSp  Parch     Fare Embarked\n",
       "0            1         0       3    male  22.0      1      0   7.2500        S\n",
       "1            2         1       1  female  38.0      1      0  71.2833        C\n",
       "2            3         1       3  female  26.0      0      0   7.9250        S\n",
       "3            4         1       1  female  35.0      1      0  53.1000        S\n",
       "4            5         0       3    male  35.0      0      0   8.0500        S"
      ]
     },
     "execution_count": 13,
     "metadata": {},
     "output_type": "execute_result"
    }
   ],
   "source": [
    "titanic_data=tit.drop(['Name','Ticket', 'Cabin'], axis=1)\n",
    "titanic_data.head()"
   ]
  },
  {
   "cell_type": "markdown",
   "metadata": {},
   "source": [
    "## Impute missing values\n",
    "\n",
    "- we will use the Parch feature to give us a better mean estimate "
   ]
  },
  {
   "cell_type": "code",
   "execution_count": 15,
   "metadata": {},
   "outputs": [
    {
     "data": {
      "text/plain": [
       "<matplotlib.axes._subplots.AxesSubplot at 0x297a2bfa208>"
      ]
     },
     "execution_count": 15,
     "metadata": {},
     "output_type": "execute_result"
    },
    {
     "data": {
      "image/png": "[encoded data removed]",
      "text/plain": [
       "<Figure size 360x288 with 1 Axes>"
      ]
     },
     "metadata": {},
     "output_type": "display_data"
    }
   ],
   "source": [
    "sb.boxplot(x='Parch', y='Age', data=titanic_data, palette='hls')"
   ]
  },
  {
   "cell_type": "code",
   "execution_count": 17,
   "metadata": {},
   "outputs": [
    {
     "data": {
      "text/html": [
       "<div>\n",
       "<style scoped>\n",
       "    .dataframe tbody tr th:only-of-type {\n",
       "        vertical-align: middle;\n",
       "    }\n",
       "\n",
       "    .dataframe tbody tr th {\n",
       "        vertical-align: top;\n",
       "    }\n",
       "\n",
       "    .dataframe thead th {\n",
       "        text-align: right;\n",
       "    }\n",
       "</style>\n",
       "<table border=\"1\" class=\"dataframe\">\n",
       "  <thead>\n",
       "    <tr style=\"text-align: right;\">\n",
       "      <th></th>\n",
       "      <th>PassengerId</th>\n",
       "      <th>Survived</th>\n",
       "      <th>Pclass</th>\n",
       "      <th>Age</th>\n",
       "      <th>SibSp</th>\n",
       "      <th>Fare</th>\n",
       "    </tr>\n",
       "    <tr>\n",
       "      <th>Parch</th>\n",
       "      <th></th>\n",
       "      <th></th>\n",
       "      <th></th>\n",
       "      <th></th>\n",
       "      <th></th>\n",
       "      <th></th>\n",
       "    </tr>\n",
       "  </thead>\n",
       "  <tbody>\n",
       "    <tr>\n",
       "      <th>0</th>\n",
       "      <td>445.255162</td>\n",
       "      <td>0.343658</td>\n",
       "      <td>2.321534</td>\n",
       "      <td>32.178503</td>\n",
       "      <td>0.237463</td>\n",
       "      <td>25.586774</td>\n",
       "    </tr>\n",
       "    <tr>\n",
       "      <th>1</th>\n",
       "      <td>465.110169</td>\n",
       "      <td>0.550847</td>\n",
       "      <td>2.203390</td>\n",
       "      <td>24.422000</td>\n",
       "      <td>1.084746</td>\n",
       "      <td>46.778180</td>\n",
       "    </tr>\n",
       "    <tr>\n",
       "      <th>2</th>\n",
       "      <td>416.662500</td>\n",
       "      <td>0.500000</td>\n",
       "      <td>2.275000</td>\n",
       "      <td>17.216912</td>\n",
       "      <td>2.062500</td>\n",
       "      <td>64.337604</td>\n",
       "    </tr>\n",
       "    <tr>\n",
       "      <th>3</th>\n",
       "      <td>579.200000</td>\n",
       "      <td>0.600000</td>\n",
       "      <td>2.600000</td>\n",
       "      <td>33.200000</td>\n",
       "      <td>1.000000</td>\n",
       "      <td>25.951660</td>\n",
       "    </tr>\n",
       "    <tr>\n",
       "      <th>4</th>\n",
       "      <td>384.000000</td>\n",
       "      <td>0.000000</td>\n",
       "      <td>2.500000</td>\n",
       "      <td>44.500000</td>\n",
       "      <td>0.750000</td>\n",
       "      <td>84.968750</td>\n",
       "    </tr>\n",
       "    <tr>\n",
       "      <th>5</th>\n",
       "      <td>435.200000</td>\n",
       "      <td>0.200000</td>\n",
       "      <td>3.000000</td>\n",
       "      <td>39.200000</td>\n",
       "      <td>0.600000</td>\n",
       "      <td>32.550000</td>\n",
       "    </tr>\n",
       "    <tr>\n",
       "      <th>6</th>\n",
       "      <td>679.000000</td>\n",
       "      <td>0.000000</td>\n",
       "      <td>3.000000</td>\n",
       "      <td>43.000000</td>\n",
       "      <td>1.000000</td>\n",
       "      <td>46.900000</td>\n",
       "    </tr>\n",
       "  </tbody>\n",
       "</table>\n",
       "</div>"
      ],
      "text/plain": [
       "       PassengerId  Survived    Pclass        Age     SibSp       Fare\n",
       "Parch                                                                 \n",
       "0       445.255162  0.343658  2.321534  32.178503  0.237463  25.586774\n",
       "1       465.110169  0.550847  2.203390  24.422000  1.084746  46.778180\n",
       "2       416.662500  0.500000  2.275000  17.216912  2.062500  64.337604\n",
       "3       579.200000  0.600000  2.600000  33.200000  1.000000  25.951660\n",
       "4       384.000000  0.000000  2.500000  44.500000  0.750000  84.968750\n",
       "5       435.200000  0.200000  3.000000  39.200000  0.600000  32.550000\n",
       "6       679.000000  0.000000  3.000000  43.000000  1.000000  46.900000"
      ]
     },
     "execution_count": 17,
     "metadata": {},
     "output_type": "execute_result"
    }
   ],
   "source": [
    "parch_groups = titanic_data.groupby(titanic_data['Parch'])\n",
    "parch_groups.mean()"
   ]
  },
  {
   "cell_type": "code",
   "execution_count": 19,
   "metadata": {},
   "outputs": [],
   "source": [
    "def age_approx(cols):\n",
    "    Age =cols[0]\n",
    "    Parch=cols[0]\n",
    "    \n",
    "    if pd.isnull(Age):\n",
    "        if Parch == 0:\n",
    "            return 32\n",
    "        elif Parch == 1:\n",
    "            return 24\n",
    "        elif Parch == 2:\n",
    "            return 17\n",
    "        elif Parch == 3:\n",
    "            return 33\n",
    "        elif Parch == 4:\n",
    "            return 45\n",
    "        else:\n",
    "            return 30\n",
    "    else:\n",
    "        return Age\n",
    "        "
   ]
  },
  {
   "cell_type": "code",
   "execution_count": 21,
   "metadata": {},
   "outputs": [],
   "source": [
    "titanic_data['Age']=titanic_data[['Age', 'Parch']].apply(age_approx, axis=1)"
   ]
  },
  {
   "cell_type": "code",
   "execution_count": 23,
   "metadata": {},
   "outputs": [
    {
     "data": {
      "text/plain": [
       "PassengerId    0\n",
       "Survived       0\n",
       "Pclass         0\n",
       "Sex            0\n",
       "Age            0\n",
       "SibSp          0\n",
       "Parch          0\n",
       "Fare           0\n",
       "Embarked       2\n",
       "dtype: int64"
      ]
     },
     "execution_count": 23,
     "metadata": {},
     "output_type": "execute_result"
    }
   ],
   "source": [
    "titanic_data.isnull().sum()"
   ]
  },
  {
   "cell_type": "code",
   "execution_count": 24,
   "metadata": {},
   "outputs": [],
   "source": [
    "titanic_data.dropna(inplace=True)\n",
    "titanic_data.reset_index(inplace=True, drop=True)"
   ]
  },
  {
   "cell_type": "code",
   "execution_count": 25,
   "metadata": {},
   "outputs": [
    {
     "name": "stdout",
     "output_type": "stream",
     "text": [
      "<class 'pandas.core.frame.DataFrame'>\n",
      "RangeIndex: 889 entries, 0 to 888\n",
      "Data columns (total 9 columns):\n",
      "PassengerId    889 non-null int64\n",
      "Survived       889 non-null int64\n",
      "Pclass         889 non-null int64\n",
      "Sex            889 non-null object\n",
      "Age            889 non-null float64\n",
      "SibSp          889 non-null int64\n",
      "Parch          889 non-null int64\n",
      "Fare           889 non-null float64\n",
      "Embarked       889 non-null object\n",
      "dtypes: float64(2), int64(5), object(2)\n",
      "memory usage: 62.6+ KB\n",
      "None\n"
     ]
    }
   ],
   "source": [
    "print(titanic_data.info())"
   ]
  },
  {
   "cell_type": "markdown",
   "metadata": {},
   "source": [
    "# Converting categorical variables to a dummy indicators"
   ]
  },
  {
   "cell_type": "code",
   "execution_count": 26,
   "metadata": {},
   "outputs": [
    {
     "data": {
      "text/plain": [
       "array([1, 0, 0, 0, 1])"
      ]
     },
     "execution_count": 26,
     "metadata": {},
     "output_type": "execute_result"
    }
   ],
   "source": [
    "from sklearn.preprocessing import LabelEncoder\n",
    "label_encorder = LabelEncoder()\n",
    "gender_cat = titanic_data['Sex']\n",
    "gender_encoded =label_encorder .fit_transform(gender_cat)\n",
    "gender_encoded[0:5]"
   ]
  },
  {
   "cell_type": "code",
   "execution_count": 27,
   "metadata": {},
   "outputs": [
    {
     "data": {
      "text/html": [
       "<div>\n",
       "<style scoped>\n",
       "    .dataframe tbody tr th:only-of-type {\n",
       "        vertical-align: middle;\n",
       "    }\n",
       "\n",
       "    .dataframe tbody tr th {\n",
       "        vertical-align: top;\n",
       "    }\n",
       "\n",
       "    .dataframe thead th {\n",
       "        text-align: right;\n",
       "    }\n",
       "</style>\n",
       "<table border=\"1\" class=\"dataframe\">\n",
       "  <thead>\n",
       "    <tr style=\"text-align: right;\">\n",
       "      <th></th>\n",
       "      <th>PassengerId</th>\n",
       "      <th>Survived</th>\n",
       "      <th>Pclass</th>\n",
       "      <th>Sex</th>\n",
       "      <th>Age</th>\n",
       "      <th>SibSp</th>\n",
       "      <th>Parch</th>\n",
       "      <th>Fare</th>\n",
       "      <th>Embarked</th>\n",
       "    </tr>\n",
       "  </thead>\n",
       "  <tbody>\n",
       "    <tr>\n",
       "      <th>0</th>\n",
       "      <td>1</td>\n",
       "      <td>0</td>\n",
       "      <td>3</td>\n",
       "      <td>male</td>\n",
       "      <td>22.0</td>\n",
       "      <td>1</td>\n",
       "      <td>0</td>\n",
       "      <td>7.2500</td>\n",
       "      <td>S</td>\n",
       "    </tr>\n",
       "    <tr>\n",
       "      <th>1</th>\n",
       "      <td>2</td>\n",
       "      <td>1</td>\n",
       "      <td>1</td>\n",
       "      <td>female</td>\n",
       "      <td>38.0</td>\n",
       "      <td>1</td>\n",
       "      <td>0</td>\n",
       "      <td>71.2833</td>\n",
       "      <td>C</td>\n",
       "    </tr>\n",
       "    <tr>\n",
       "      <th>2</th>\n",
       "      <td>3</td>\n",
       "      <td>1</td>\n",
       "      <td>3</td>\n",
       "      <td>female</td>\n",
       "      <td>26.0</td>\n",
       "      <td>0</td>\n",
       "      <td>0</td>\n",
       "      <td>7.9250</td>\n",
       "      <td>S</td>\n",
       "    </tr>\n",
       "    <tr>\n",
       "      <th>3</th>\n",
       "      <td>4</td>\n",
       "      <td>1</td>\n",
       "      <td>1</td>\n",
       "      <td>female</td>\n",
       "      <td>35.0</td>\n",
       "      <td>1</td>\n",
       "      <td>0</td>\n",
       "      <td>53.1000</td>\n",
       "      <td>S</td>\n",
       "    </tr>\n",
       "    <tr>\n",
       "      <th>4</th>\n",
       "      <td>5</td>\n",
       "      <td>0</td>\n",
       "      <td>3</td>\n",
       "      <td>male</td>\n",
       "      <td>35.0</td>\n",
       "      <td>0</td>\n",
       "      <td>0</td>\n",
       "      <td>8.0500</td>\n",
       "      <td>S</td>\n",
       "    </tr>\n",
       "  </tbody>\n",
       "</table>\n",
       "</div>"
      ],
      "text/plain": [
       "   PassengerId  Survived  Pclass     Sex   Age  SibSp  Parch     Fare Embarked\n",
       "0            1         0       3    male  22.0      1      0   7.2500        S\n",
       "1            2         1       1  female  38.0      1      0  71.2833        C\n",
       "2            3         1       3  female  26.0      0      0   7.9250        S\n",
       "3            4         1       1  female  35.0      1      0  53.1000        S\n",
       "4            5         0       3    male  35.0      0      0   8.0500        S"
      ]
     },
     "execution_count": 27,
     "metadata": {},
     "output_type": "execute_result"
    }
   ],
   "source": [
    "titanic_data.head()"
   ]
  },
  {
   "cell_type": "markdown",
   "metadata": {},
   "source": [
    "#### 1 = male   |   2 = female"
   ]
  },
  {
   "cell_type": "code",
   "execution_count": 28,
   "metadata": {},
   "outputs": [
    {
     "data": {
      "text/html": [
       "<div>\n",
       "<style scoped>\n",
       "    .dataframe tbody tr th:only-of-type {\n",
       "        vertical-align: middle;\n",
       "    }\n",
       "\n",
       "    .dataframe tbody tr th {\n",
       "        vertical-align: top;\n",
       "    }\n",
       "\n",
       "    .dataframe thead th {\n",
       "        text-align: right;\n",
       "    }\n",
       "</style>\n",
       "<table border=\"1\" class=\"dataframe\">\n",
       "  <thead>\n",
       "    <tr style=\"text-align: right;\">\n",
       "      <th></th>\n",
       "      <th>male_gender</th>\n",
       "    </tr>\n",
       "  </thead>\n",
       "  <tbody>\n",
       "    <tr>\n",
       "      <th>0</th>\n",
       "      <td>1</td>\n",
       "    </tr>\n",
       "    <tr>\n",
       "      <th>1</th>\n",
       "      <td>0</td>\n",
       "    </tr>\n",
       "    <tr>\n",
       "      <th>2</th>\n",
       "      <td>0</td>\n",
       "    </tr>\n",
       "    <tr>\n",
       "      <th>3</th>\n",
       "      <td>0</td>\n",
       "    </tr>\n",
       "    <tr>\n",
       "      <th>4</th>\n",
       "      <td>1</td>\n",
       "    </tr>\n",
       "  </tbody>\n",
       "</table>\n",
       "</div>"
      ],
      "text/plain": [
       "   male_gender\n",
       "0            1\n",
       "1            0\n",
       "2            0\n",
       "3            0\n",
       "4            1"
      ]
     },
     "execution_count": 28,
     "metadata": {},
     "output_type": "execute_result"
    }
   ],
   "source": [
    "gender_DF = pd.DataFrame(gender_encoded, columns=['male_gender'])\n",
    "gender_DF.head()"
   ]
  },
  {
   "cell_type": "code",
   "execution_count": 29,
   "metadata": {},
   "outputs": [
    {
     "data": {
      "text/plain": [
       "array([2, 0, 2, 2, 2, 1, 2, 2, 2, 0, 2, 2, 2, 2, 2, 2, 1, 2, 2, 0])"
      ]
     },
     "execution_count": 29,
     "metadata": {},
     "output_type": "execute_result"
    }
   ],
   "source": [
    "embarked_cat = titanic_data['Embarked']\n",
    "embarked_encoded =label_encorder.fit_transform(embarked_cat)\n",
    "embarked_encoded[0:20]"
   ]
  },
  {
   "cell_type": "markdown",
   "metadata": {},
   "source": [
    "#### This is a multi-nominal categorical variable and we need to one-hot encode it so we can have a binary output"
   ]
  },
  {
   "cell_type": "code",
   "execution_count": 33,
   "metadata": {},
   "outputs": [
    {
     "data": {
      "text/html": [
       "<div>\n",
       "<style scoped>\n",
       "    .dataframe tbody tr th:only-of-type {\n",
       "        vertical-align: middle;\n",
       "    }\n",
       "\n",
       "    .dataframe tbody tr th {\n",
       "        vertical-align: top;\n",
       "    }\n",
       "\n",
       "    .dataframe thead th {\n",
       "        text-align: right;\n",
       "    }\n",
       "</style>\n",
       "<table border=\"1\" class=\"dataframe\">\n",
       "  <thead>\n",
       "    <tr style=\"text-align: right;\">\n",
       "      <th></th>\n",
       "      <th>c</th>\n",
       "      <th>Q</th>\n",
       "      <th>S</th>\n",
       "    </tr>\n",
       "  </thead>\n",
       "  <tbody>\n",
       "    <tr>\n",
       "      <th>0</th>\n",
       "      <td>0.0</td>\n",
       "      <td>0.0</td>\n",
       "      <td>1.0</td>\n",
       "    </tr>\n",
       "    <tr>\n",
       "      <th>1</th>\n",
       "      <td>1.0</td>\n",
       "      <td>0.0</td>\n",
       "      <td>0.0</td>\n",
       "    </tr>\n",
       "    <tr>\n",
       "      <th>2</th>\n",
       "      <td>0.0</td>\n",
       "      <td>0.0</td>\n",
       "      <td>1.0</td>\n",
       "    </tr>\n",
       "    <tr>\n",
       "      <th>3</th>\n",
       "      <td>0.0</td>\n",
       "      <td>0.0</td>\n",
       "      <td>1.0</td>\n",
       "    </tr>\n",
       "    <tr>\n",
       "      <th>4</th>\n",
       "      <td>0.0</td>\n",
       "      <td>0.0</td>\n",
       "      <td>1.0</td>\n",
       "    </tr>\n",
       "  </tbody>\n",
       "</table>\n",
       "</div>"
      ],
      "text/plain": [
       "     c    Q    S\n",
       "0  0.0  0.0  1.0\n",
       "1  1.0  0.0  0.0\n",
       "2  0.0  0.0  1.0\n",
       "3  0.0  0.0  1.0\n",
       "4  0.0  0.0  1.0"
      ]
     },
     "execution_count": 33,
     "metadata": {},
     "output_type": "execute_result"
    }
   ],
   "source": [
    "from sklearn.preprocessing import OneHotEncoder\n",
    "binary_encoder = OneHotEncoder(categories='auto')\n",
    "embarked_1hot =binary_encoder.fit_transform(embarked_encoded.reshape(-1,1))\n",
    "embarked_1hot_mat = embarked_1hot.toarray()\n",
    "embarked_DF=pd.DataFrame(embarked_1hot_mat, columns=['c','Q','S'])\n",
    "embarked_DF.head()"
   ]
  },
  {
   "cell_type": "code",
   "execution_count": 34,
   "metadata": {},
   "outputs": [
    {
     "data": {
      "text/html": [
       "<div>\n",
       "<style scoped>\n",
       "    .dataframe tbody tr th:only-of-type {\n",
       "        vertical-align: middle;\n",
       "    }\n",
       "\n",
       "    .dataframe tbody tr th {\n",
       "        vertical-align: top;\n",
       "    }\n",
       "\n",
       "    .dataframe thead th {\n",
       "        text-align: right;\n",
       "    }\n",
       "</style>\n",
       "<table border=\"1\" class=\"dataframe\">\n",
       "  <thead>\n",
       "    <tr style=\"text-align: right;\">\n",
       "      <th></th>\n",
       "      <th>PassengerId</th>\n",
       "      <th>Survived</th>\n",
       "      <th>Pclass</th>\n",
       "      <th>Age</th>\n",
       "      <th>SibSp</th>\n",
       "      <th>Parch</th>\n",
       "      <th>Fare</th>\n",
       "    </tr>\n",
       "  </thead>\n",
       "  <tbody>\n",
       "    <tr>\n",
       "      <th>0</th>\n",
       "      <td>1</td>\n",
       "      <td>0</td>\n",
       "      <td>3</td>\n",
       "      <td>22.0</td>\n",
       "      <td>1</td>\n",
       "      <td>0</td>\n",
       "      <td>7.2500</td>\n",
       "    </tr>\n",
       "    <tr>\n",
       "      <th>1</th>\n",
       "      <td>2</td>\n",
       "      <td>1</td>\n",
       "      <td>1</td>\n",
       "      <td>38.0</td>\n",
       "      <td>1</td>\n",
       "      <td>0</td>\n",
       "      <td>71.2833</td>\n",
       "    </tr>\n",
       "    <tr>\n",
       "      <th>2</th>\n",
       "      <td>3</td>\n",
       "      <td>1</td>\n",
       "      <td>3</td>\n",
       "      <td>26.0</td>\n",
       "      <td>0</td>\n",
       "      <td>0</td>\n",
       "      <td>7.9250</td>\n",
       "    </tr>\n",
       "    <tr>\n",
       "      <th>3</th>\n",
       "      <td>4</td>\n",
       "      <td>1</td>\n",
       "      <td>1</td>\n",
       "      <td>35.0</td>\n",
       "      <td>1</td>\n",
       "      <td>0</td>\n",
       "      <td>53.1000</td>\n",
       "    </tr>\n",
       "    <tr>\n",
       "      <th>4</th>\n",
       "      <td>5</td>\n",
       "      <td>0</td>\n",
       "      <td>3</td>\n",
       "      <td>35.0</td>\n",
       "      <td>0</td>\n",
       "      <td>0</td>\n",
       "      <td>8.0500</td>\n",
       "    </tr>\n",
       "  </tbody>\n",
       "</table>\n",
       "</div>"
      ],
      "text/plain": [
       "   PassengerId  Survived  Pclass   Age  SibSp  Parch     Fare\n",
       "0            1         0       3  22.0      1      0   7.2500\n",
       "1            2         1       1  38.0      1      0  71.2833\n",
       "2            3         1       3  26.0      0      0   7.9250\n",
       "3            4         1       1  35.0      1      0  53.1000\n",
       "4            5         0       3  35.0      0      0   8.0500"
      ]
     },
     "execution_count": 34,
     "metadata": {},
     "output_type": "execute_result"
    }
   ],
   "source": [
    "titanic_data.drop(['Sex','Embarked'], axis=1, inplace=True)\n",
    "titanic_data.head()"
   ]
  },
  {
   "cell_type": "markdown",
   "metadata": {},
   "source": [
    "#### concatenate the encoded variables"
   ]
  },
  {
   "cell_type": "code",
   "execution_count": 36,
   "metadata": {},
   "outputs": [
    {
     "data": {
      "text/html": [
       "<div>\n",
       "<style scoped>\n",
       "    .dataframe tbody tr th:only-of-type {\n",
       "        vertical-align: middle;\n",
       "    }\n",
       "\n",
       "    .dataframe tbody tr th {\n",
       "        vertical-align: top;\n",
       "    }\n",
       "\n",
       "    .dataframe thead th {\n",
       "        text-align: right;\n",
       "    }\n",
       "</style>\n",
       "<table border=\"1\" class=\"dataframe\">\n",
       "  <thead>\n",
       "    <tr style=\"text-align: right;\">\n",
       "      <th></th>\n",
       "      <th>PassengerId</th>\n",
       "      <th>Survived</th>\n",
       "      <th>Pclass</th>\n",
       "      <th>Age</th>\n",
       "      <th>SibSp</th>\n",
       "      <th>Parch</th>\n",
       "      <th>Fare</th>\n",
       "      <th>c</th>\n",
       "      <th>Q</th>\n",
       "      <th>S</th>\n",
       "      <th>male_gender</th>\n",
       "    </tr>\n",
       "  </thead>\n",
       "  <tbody>\n",
       "    <tr>\n",
       "      <th>0</th>\n",
       "      <td>1.0</td>\n",
       "      <td>0.0</td>\n",
       "      <td>3.0</td>\n",
       "      <td>22.0</td>\n",
       "      <td>1.0</td>\n",
       "      <td>0.0</td>\n",
       "      <td>7.2500</td>\n",
       "      <td>0.0</td>\n",
       "      <td>0.0</td>\n",
       "      <td>1.0</td>\n",
       "      <td>1.0</td>\n",
       "    </tr>\n",
       "    <tr>\n",
       "      <th>1</th>\n",
       "      <td>2.0</td>\n",
       "      <td>1.0</td>\n",
       "      <td>1.0</td>\n",
       "      <td>38.0</td>\n",
       "      <td>1.0</td>\n",
       "      <td>0.0</td>\n",
       "      <td>71.2833</td>\n",
       "      <td>1.0</td>\n",
       "      <td>0.0</td>\n",
       "      <td>0.0</td>\n",
       "      <td>0.0</td>\n",
       "    </tr>\n",
       "    <tr>\n",
       "      <th>2</th>\n",
       "      <td>3.0</td>\n",
       "      <td>1.0</td>\n",
       "      <td>3.0</td>\n",
       "      <td>26.0</td>\n",
       "      <td>0.0</td>\n",
       "      <td>0.0</td>\n",
       "      <td>7.9250</td>\n",
       "      <td>0.0</td>\n",
       "      <td>0.0</td>\n",
       "      <td>1.0</td>\n",
       "      <td>0.0</td>\n",
       "    </tr>\n",
       "    <tr>\n",
       "      <th>3</th>\n",
       "      <td>4.0</td>\n",
       "      <td>1.0</td>\n",
       "      <td>1.0</td>\n",
       "      <td>35.0</td>\n",
       "      <td>1.0</td>\n",
       "      <td>0.0</td>\n",
       "      <td>53.1000</td>\n",
       "      <td>0.0</td>\n",
       "      <td>0.0</td>\n",
       "      <td>1.0</td>\n",
       "      <td>0.0</td>\n",
       "    </tr>\n",
       "    <tr>\n",
       "      <th>4</th>\n",
       "      <td>5.0</td>\n",
       "      <td>0.0</td>\n",
       "      <td>3.0</td>\n",
       "      <td>35.0</td>\n",
       "      <td>0.0</td>\n",
       "      <td>0.0</td>\n",
       "      <td>8.0500</td>\n",
       "      <td>0.0</td>\n",
       "      <td>0.0</td>\n",
       "      <td>1.0</td>\n",
       "      <td>1.0</td>\n",
       "    </tr>\n",
       "  </tbody>\n",
       "</table>\n",
       "</div>"
      ],
      "text/plain": [
       "   PassengerId  Survived  Pclass   Age  SibSp  Parch     Fare    c    Q    S  \\\n",
       "0          1.0       0.0     3.0  22.0    1.0    0.0   7.2500  0.0  0.0  1.0   \n",
       "1          2.0       1.0     1.0  38.0    1.0    0.0  71.2833  1.0  0.0  0.0   \n",
       "2          3.0       1.0     3.0  26.0    0.0    0.0   7.9250  0.0  0.0  1.0   \n",
       "3          4.0       1.0     1.0  35.0    1.0    0.0  53.1000  0.0  0.0  1.0   \n",
       "4          5.0       0.0     3.0  35.0    0.0    0.0   8.0500  0.0  0.0  1.0   \n",
       "\n",
       "   male_gender  \n",
       "0          1.0  \n",
       "1          0.0  \n",
       "2          0.0  \n",
       "3          0.0  \n",
       "4          1.0  "
      ]
     },
     "execution_count": 36,
     "metadata": {},
     "output_type": "execute_result"
    }
   ],
   "source": [
    "titanic_dmy = pd.concat([titanic_data, embarked_DF,gender_DF], axis =1, verify_integrity=True).astype(float)\n",
    "titanic_dmy[0:5] "
   ]
  },
  {
   "cell_type": "markdown",
   "metadata": {},
   "source": [
    "## Are the features correlated\n",
    "\n",
    "- Logistic regression assumes that features are independent of one another\n",
    "- correlation close to 1 or -1, implies a strong linear relationship between two variables."
   ]
  },
  {
   "cell_type": "code",
   "execution_count": 37,
   "metadata": {},
   "outputs": [
    {
     "data": {
      "text/html": [
       "<style  type=\"text/css\" >\n",
       "    #T_3f92835c_2ff2_11ea_bc58_0019d2e12a2arow0_col0 {\n",
       "            background-color:  #b40426;\n",
       "        }    #T_3f92835c_2ff2_11ea_bc58_0019d2e12a2arow0_col1 {\n",
       "            background-color:  #afcafc;\n",
       "        }    #T_3f92835c_2ff2_11ea_bc58_0019d2e12a2arow0_col2 {\n",
       "            background-color:  #a9c6fd;\n",
       "        }    #T_3f92835c_2ff2_11ea_bc58_0019d2e12a2arow0_col3 {\n",
       "            background-color:  #93b5fe;\n",
       "        }    #T_3f92835c_2ff2_11ea_bc58_0019d2e12a2arow0_col4 {\n",
       "            background-color:  #6788ee;\n",
       "        }    #T_3f92835c_2ff2_11ea_bc58_0019d2e12a2arow0_col5 {\n",
       "            background-color:  #7a9df8;\n",
       "        }    #T_3f92835c_2ff2_11ea_bc58_0019d2e12a2arow0_col6 {\n",
       "            background-color:  #b3cdfb;\n",
       "        }    #T_3f92835c_2ff2_11ea_bc58_0019d2e12a2arow0_col7 {\n",
       "            background-color:  #ccd9ed;\n",
       "        }    #T_3f92835c_2ff2_11ea_bc58_0019d2e12a2arow0_col8 {\n",
       "            background-color:  #a2c1ff;\n",
       "        }    #T_3f92835c_2ff2_11ea_bc58_0019d2e12a2arow0_col9 {\n",
       "            background-color:  #cfdaea;\n",
       "        }    #T_3f92835c_2ff2_11ea_bc58_0019d2e12a2arow0_col10 {\n",
       "            background-color:  #bad0f8;\n",
       "        }    #T_3f92835c_2ff2_11ea_bc58_0019d2e12a2arow1_col0 {\n",
       "            background-color:  #4961d2;\n",
       "        }    #T_3f92835c_2ff2_11ea_bc58_0019d2e12a2arow1_col1 {\n",
       "            background-color:  #b40426;\n",
       "        }    #T_3f92835c_2ff2_11ea_bc58_0019d2e12a2arow1_col2 {\n",
       "            background-color:  #6687ed;\n",
       "        }    #T_3f92835c_2ff2_11ea_bc58_0019d2e12a2arow1_col3 {\n",
       "            background-color:  #779af7;\n",
       "        }    #T_3f92835c_2ff2_11ea_bc58_0019d2e12a2arow1_col4 {\n",
       "            background-color:  #6e90f2;\n",
       "        }    #T_3f92835c_2ff2_11ea_bc58_0019d2e12a2arow1_col5 {\n",
       "            background-color:  #92b4fe;\n",
       "        }    #T_3f92835c_2ff2_11ea_bc58_0019d2e12a2arow1_col6 {\n",
       "            background-color:  #e1dad6;\n",
       "        }    #T_3f92835c_2ff2_11ea_bc58_0019d2e12a2arow1_col7 {\n",
       "            background-color:  #e5d8d1;\n",
       "        }    #T_3f92835c_2ff2_11ea_bc58_0019d2e12a2arow1_col8 {\n",
       "            background-color:  #abc8fd;\n",
       "        }    #T_3f92835c_2ff2_11ea_bc58_0019d2e12a2arow1_col9 {\n",
       "            background-color:  #b1cbfc;\n",
       "        }    #T_3f92835c_2ff2_11ea_bc58_0019d2e12a2arow1_col10 {\n",
       "            background-color:  #3b4cc0;\n",
       "        }    #T_3f92835c_2ff2_11ea_bc58_0019d2e12a2arow2_col0 {\n",
       "            background-color:  #4055c8;\n",
       "        }    #T_3f92835c_2ff2_11ea_bc58_0019d2e12a2arow2_col1 {\n",
       "            background-color:  #6485ec;\n",
       "        }    #T_3f92835c_2ff2_11ea_bc58_0019d2e12a2arow2_col2 {\n",
       "            background-color:  #b40426;\n",
       "        }    #T_3f92835c_2ff2_11ea_bc58_0019d2e12a2arow2_col3 {\n",
       "            background-color:  #3b4cc0;\n",
       "        }    #T_3f92835c_2ff2_11ea_bc58_0019d2e12a2arow2_col4 {\n",
       "            background-color:  #8fb1fe;\n",
       "        }    #T_3f92835c_2ff2_11ea_bc58_0019d2e12a2arow2_col5 {\n",
       "            background-color:  #80a3fa;\n",
       "        }    #T_3f92835c_2ff2_11ea_bc58_0019d2e12a2arow2_col6 {\n",
       "            background-color:  #3b4cc0;\n",
       "        }    #T_3f92835c_2ff2_11ea_bc58_0019d2e12a2arow2_col7 {\n",
       "            background-color:  #9fbfff;\n",
       "        }    #T_3f92835c_2ff2_11ea_bc58_0019d2e12a2arow2_col8 {\n",
       "            background-color:  #d7dce3;\n",
       "        }    #T_3f92835c_2ff2_11ea_bc58_0019d2e12a2arow2_col9 {\n",
       "            background-color:  #d8dce2;\n",
       "        }    #T_3f92835c_2ff2_11ea_bc58_0019d2e12a2arow2_col10 {\n",
       "            background-color:  #cbd8ee;\n",
       "        }    #T_3f92835c_2ff2_11ea_bc58_0019d2e12a2arow3_col0 {\n",
       "            background-color:  #5470de;\n",
       "        }    #T_3f92835c_2ff2_11ea_bc58_0019d2e12a2arow3_col1 {\n",
       "            background-color:  #9fbfff;\n",
       "        }    #T_3f92835c_2ff2_11ea_bc58_0019d2e12a2arow3_col2 {\n",
       "            background-color:  #6788ee;\n",
       "        }    #T_3f92835c_2ff2_11ea_bc58_0019d2e12a2arow3_col3 {\n",
       "            background-color:  #b40426;\n",
       "        }    #T_3f92835c_2ff2_11ea_bc58_0019d2e12a2arow3_col4 {\n",
       "            background-color:  #3b4cc0;\n",
       "        }    #T_3f92835c_2ff2_11ea_bc58_0019d2e12a2arow3_col5 {\n",
       "            background-color:  #4a63d3;\n",
       "        }    #T_3f92835c_2ff2_11ea_bc58_0019d2e12a2arow3_col6 {\n",
       "            background-color:  #c4d5f3;\n",
       "        }    #T_3f92835c_2ff2_11ea_bc58_0019d2e12a2arow3_col7 {\n",
       "            background-color:  #d2dbe8;\n",
       "        }    #T_3f92835c_2ff2_11ea_bc58_0019d2e12a2arow3_col8 {\n",
       "            background-color:  #a7c5fe;\n",
       "        }    #T_3f92835c_2ff2_11ea_bc58_0019d2e12a2arow3_col9 {\n",
       "            background-color:  #c7d7f0;\n",
       "        }    #T_3f92835c_2ff2_11ea_bc58_0019d2e12a2arow3_col10 {\n",
       "            background-color:  #c3d5f4;\n",
       "        }    #T_3f92835c_2ff2_11ea_bc58_0019d2e12a2arow4_col0 {\n",
       "            background-color:  #3b4cc0;\n",
       "        }    #T_3f92835c_2ff2_11ea_bc58_0019d2e12a2arow4_col1 {\n",
       "            background-color:  #a9c6fd;\n",
       "        }    #T_3f92835c_2ff2_11ea_bc58_0019d2e12a2arow4_col2 {\n",
       "            background-color:  #c3d5f4;\n",
       "        }    #T_3f92835c_2ff2_11ea_bc58_0019d2e12a2arow4_col3 {\n",
       "            background-color:  #506bda;\n",
       "        }    #T_3f92835c_2ff2_11ea_bc58_0019d2e12a2arow4_col4 {\n",
       "            background-color:  #b40426;\n",
       "        }    #T_3f92835c_2ff2_11ea_bc58_0019d2e12a2arow4_col5 {\n",
       "            background-color:  #e4d9d2;\n",
       "        }    #T_3f92835c_2ff2_11ea_bc58_0019d2e12a2arow4_col6 {\n",
       "            background-color:  #d2dbe8;\n",
       "        }    #T_3f92835c_2ff2_11ea_bc58_0019d2e12a2arow4_col7 {\n",
       "            background-color:  #c1d4f4;\n",
       "        }    #T_3f92835c_2ff2_11ea_bc58_0019d2e12a2arow4_col8 {\n",
       "            background-color:  #a3c2fe;\n",
       "        }    #T_3f92835c_2ff2_11ea_bc58_0019d2e12a2arow4_col9 {\n",
       "            background-color:  #d7dce3;\n",
       "        }    #T_3f92835c_2ff2_11ea_bc58_0019d2e12a2arow4_col10 {\n",
       "            background-color:  #96b7ff;\n",
       "        }    #T_3f92835c_2ff2_11ea_bc58_0019d2e12a2arow5_col0 {\n",
       "            background-color:  #4a63d3;\n",
       "        }    #T_3f92835c_2ff2_11ea_bc58_0019d2e12a2arow5_col1 {\n",
       "            background-color:  #c1d4f4;\n",
       "        }    #T_3f92835c_2ff2_11ea_bc58_0019d2e12a2arow5_col2 {\n",
       "            background-color:  #b5cdfa;\n",
       "        }    #T_3f92835c_2ff2_11ea_bc58_0019d2e12a2arow5_col3 {\n",
       "            background-color:  #5d7ce6;\n",
       "        }    #T_3f92835c_2ff2_11ea_bc58_0019d2e12a2arow5_col4 {\n",
       "            background-color:  #e3d9d3;\n",
       "        }    #T_3f92835c_2ff2_11ea_bc58_0019d2e12a2arow5_col5 {\n",
       "            background-color:  #b40426;\n",
       "        }    #T_3f92835c_2ff2_11ea_bc58_0019d2e12a2arow5_col6 {\n",
       "            background-color:  #dbdcde;\n",
       "        }    #T_3f92835c_2ff2_11ea_bc58_0019d2e12a2arow5_col7 {\n",
       "            background-color:  #cad8ef;\n",
       "        }    #T_3f92835c_2ff2_11ea_bc58_0019d2e12a2arow5_col8 {\n",
       "            background-color:  #97b8ff;\n",
       "        }    #T_3f92835c_2ff2_11ea_bc58_0019d2e12a2arow5_col9 {\n",
       "            background-color:  #d6dce4;\n",
       "        }    #T_3f92835c_2ff2_11ea_bc58_0019d2e12a2arow5_col10 {\n",
       "            background-color:  #779af7;\n",
       "        }    #T_3f92835c_2ff2_11ea_bc58_0019d2e12a2arow6_col0 {\n",
       "            background-color:  #4f69d9;\n",
       "        }    #T_3f92835c_2ff2_11ea_bc58_0019d2e12a2arow6_col1 {\n",
       "            background-color:  #e1dad6;\n",
       "        }    #T_3f92835c_2ff2_11ea_bc58_0019d2e12a2arow6_col2 {\n",
       "            background-color:  #3b4cc0;\n",
       "        }    #T_3f92835c_2ff2_11ea_bc58_0019d2e12a2arow6_col3 {\n",
       "            background-color:  #a2c1ff;\n",
       "        }    #T_3f92835c_2ff2_11ea_bc58_0019d2e12a2arow6_col4 {\n",
       "            background-color:  #a5c3fe;\n",
       "        }    #T_3f92835c_2ff2_11ea_bc58_0019d2e12a2arow6_col5 {\n",
       "            background-color:  #b7cff9;\n",
       "        }    #T_3f92835c_2ff2_11ea_bc58_0019d2e12a2arow6_col6 {\n",
       "            background-color:  #b40426;\n",
       "        }    #T_3f92835c_2ff2_11ea_bc58_0019d2e12a2arow6_col7 {\n",
       "            background-color:  #f1cdba;\n",
       "        }    #T_3f92835c_2ff2_11ea_bc58_0019d2e12a2arow6_col8 {\n",
       "            background-color:  #8fb1fe;\n",
       "        }    #T_3f92835c_2ff2_11ea_bc58_0019d2e12a2arow6_col9 {\n",
       "            background-color:  #aec9fc;\n",
       "        }    #T_3f92835c_2ff2_11ea_bc58_0019d2e12a2arow6_col10 {\n",
       "            background-color:  #88abfd;\n",
       "        }    #T_3f92835c_2ff2_11ea_bc58_0019d2e12a2arow7_col0 {\n",
       "            background-color:  #4a63d3;\n",
       "        }    #T_3f92835c_2ff2_11ea_bc58_0019d2e12a2arow7_col1 {\n",
       "            background-color:  #d3dbe7;\n",
       "        }    #T_3f92835c_2ff2_11ea_bc58_0019d2e12a2arow7_col2 {\n",
       "            background-color:  #7a9df8;\n",
       "        }    #T_3f92835c_2ff2_11ea_bc58_0019d2e12a2arow7_col3 {\n",
       "            background-color:  #94b6ff;\n",
       "        }    #T_3f92835c_2ff2_11ea_bc58_0019d2e12a2arow7_col4 {\n",
       "            background-color:  #6687ed;\n",
       "        }    #T_3f92835c_2ff2_11ea_bc58_0019d2e12a2arow7_col5 {\n",
       "            background-color:  #779af7;\n",
       "        }    #T_3f92835c_2ff2_11ea_bc58_0019d2e12a2arow7_col6 {\n",
       "            background-color:  #e4d9d2;\n",
       "        }    #T_3f92835c_2ff2_11ea_bc58_0019d2e12a2arow7_col7 {\n",
       "            background-color:  #b40426;\n",
       "        }    #T_3f92835c_2ff2_11ea_bc58_0019d2e12a2arow7_col8 {\n",
       "            background-color:  #86a9fc;\n",
       "        }    #T_3f92835c_2ff2_11ea_bc58_0019d2e12a2arow7_col9 {\n",
       "            background-color:  #3b4cc0;\n",
       "        }    #T_3f92835c_2ff2_11ea_bc58_0019d2e12a2arow7_col10 {\n",
       "            background-color:  #9dbdff;\n",
       "        }    #T_3f92835c_2ff2_11ea_bc58_0019d2e12a2arow8_col0 {\n",
       "            background-color:  #4055c8;\n",
       "        }    #T_3f92835c_2ff2_11ea_bc58_0019d2e12a2arow8_col1 {\n",
       "            background-color:  #b1cbfc;\n",
       "        }    #T_3f92835c_2ff2_11ea_bc58_0019d2e12a2arow8_col2 {\n",
       "            background-color:  #dcdddd;\n",
       "        }    #T_3f92835c_2ff2_11ea_bc58_0019d2e12a2arow8_col3 {\n",
       "            background-color:  #89acfd;\n",
       "        }    #T_3f92835c_2ff2_11ea_bc58_0019d2e12a2arow8_col4 {\n",
       "            background-color:  #6f92f3;\n",
       "        }    #T_3f92835c_2ff2_11ea_bc58_0019d2e12a2arow8_col5 {\n",
       "            background-color:  #6485ec;\n",
       "        }    #T_3f92835c_2ff2_11ea_bc58_0019d2e12a2arow8_col6 {\n",
       "            background-color:  #97b8ff;\n",
       "        }    #T_3f92835c_2ff2_11ea_bc58_0019d2e12a2arow8_col7 {\n",
       "            background-color:  #b2ccfb;\n",
       "        }    #T_3f92835c_2ff2_11ea_bc58_0019d2e12a2arow8_col8 {\n",
       "            background-color:  #b40426;\n",
       "        }    #T_3f92835c_2ff2_11ea_bc58_0019d2e12a2arow8_col9 {\n",
       "            background-color:  #6c8ff1;\n",
       "        }    #T_3f92835c_2ff2_11ea_bc58_0019d2e12a2arow8_col10 {\n",
       "            background-color:  #9fbfff;\n",
       "        }    #T_3f92835c_2ff2_11ea_bc58_0019d2e12a2arow9_col0 {\n",
       "            background-color:  #516ddb;\n",
       "        }    #T_3f92835c_2ff2_11ea_bc58_0019d2e12a2arow9_col1 {\n",
       "            background-color:  #8db0fe;\n",
       "        }    #T_3f92835c_2ff2_11ea_bc58_0019d2e12a2arow9_col2 {\n",
       "            background-color:  #c1d4f4;\n",
       "        }    #T_3f92835c_2ff2_11ea_bc58_0019d2e12a2arow9_col3 {\n",
       "            background-color:  #85a8fc;\n",
       "        }    #T_3f92835c_2ff2_11ea_bc58_0019d2e12a2arow9_col4 {\n",
       "            background-color:  #8badfd;\n",
       "        }    #T_3f92835c_2ff2_11ea_bc58_0019d2e12a2arow9_col5 {\n",
       "            background-color:  #8caffe;\n",
       "        }    #T_3f92835c_2ff2_11ea_bc58_0019d2e12a2arow9_col6 {\n",
       "            background-color:  #8caffe;\n",
       "        }    #T_3f92835c_2ff2_11ea_bc58_0019d2e12a2arow9_col7 {\n",
       "            background-color:  #3b4cc0;\n",
       "        }    #T_3f92835c_2ff2_11ea_bc58_0019d2e12a2arow9_col8 {\n",
       "            background-color:  #3b4cc0;\n",
       "        }    #T_3f92835c_2ff2_11ea_bc58_0019d2e12a2arow9_col9 {\n",
       "            background-color:  #b40426;\n",
       "        }    #T_3f92835c_2ff2_11ea_bc58_0019d2e12a2arow9_col10 {\n",
       "            background-color:  #cad8ef;\n",
       "        }    #T_3f92835c_2ff2_11ea_bc58_0019d2e12a2arow10_col0 {\n",
       "            background-color:  #5875e1;\n",
       "        }    #T_3f92835c_2ff2_11ea_bc58_0019d2e12a2arow10_col1 {\n",
       "            background-color:  #3b4cc0;\n",
       "        }    #T_3f92835c_2ff2_11ea_bc58_0019d2e12a2arow10_col2 {\n",
       "            background-color:  #cbd8ee;\n",
       "        }    #T_3f92835c_2ff2_11ea_bc58_0019d2e12a2arow10_col3 {\n",
       "            background-color:  #a3c2fe;\n",
       "        }    #T_3f92835c_2ff2_11ea_bc58_0019d2e12a2arow10_col4 {\n",
       "            background-color:  #5673e0;\n",
       "        }    #T_3f92835c_2ff2_11ea_bc58_0019d2e12a2arow10_col5 {\n",
       "            background-color:  #3b4cc0;\n",
       "        }    #T_3f92835c_2ff2_11ea_bc58_0019d2e12a2arow10_col6 {\n",
       "            background-color:  #88abfd;\n",
       "        }    #T_3f92835c_2ff2_11ea_bc58_0019d2e12a2arow10_col7 {\n",
       "            background-color:  #bed2f6;\n",
       "        }    #T_3f92835c_2ff2_11ea_bc58_0019d2e12a2arow10_col8 {\n",
       "            background-color:  #98b9ff;\n",
       "        }    #T_3f92835c_2ff2_11ea_bc58_0019d2e12a2arow10_col9 {\n",
       "            background-color:  #dedcdb;\n",
       "        }    #T_3f92835c_2ff2_11ea_bc58_0019d2e12a2arow10_col10 {\n",
       "            background-color:  #b40426;\n",
       "        }</style>  \n",
       "<table id=\"T_3f92835c_2ff2_11ea_bc58_0019d2e12a2a\" > \n",
       "<thead>    <tr> \n",
       "        <th class=\"blank level0\" ></th> \n",
       "        <th class=\"col_heading level0 col0\" >PassengerId</th> \n",
       "        <th class=\"col_heading level0 col1\" >Survived</th> \n",
       "        <th class=\"col_heading level0 col2\" >Pclass</th> \n",
       "        <th class=\"col_heading level0 col3\" >Age</th> \n",
       "        <th class=\"col_heading level0 col4\" >SibSp</th> \n",
       "        <th class=\"col_heading level0 col5\" >Parch</th> \n",
       "        <th class=\"col_heading level0 col6\" >Fare</th> \n",
       "        <th class=\"col_heading level0 col7\" >c</th> \n",
       "        <th class=\"col_heading level0 col8\" >Q</th> \n",
       "        <th class=\"col_heading level0 col9\" >S</th> \n",
       "        <th class=\"col_heading level0 col10\" >male_gender</th> \n",
       "    </tr></thead> \n",
       "<tbody>    <tr> \n",
       "        <th id=\"T_3f92835c_2ff2_11ea_bc58_0019d2e12a2alevel0_row0\" class=\"row_heading level0 row0\" >PassengerId</th> \n",
       "        <td id=\"T_3f92835c_2ff2_11ea_bc58_0019d2e12a2arow0_col0\" class=\"data row0 col0\" >1</td> \n",
       "        <td id=\"T_3f92835c_2ff2_11ea_bc58_0019d2e12a2arow0_col1\" class=\"data row0 col1\" >-0.005</td> \n",
       "        <td id=\"T_3f92835c_2ff2_11ea_bc58_0019d2e12a2arow0_col2\" class=\"data row0 col2\" >-0.035</td> \n",
       "        <td id=\"T_3f92835c_2ff2_11ea_bc58_0019d2e12a2arow0_col3\" class=\"data row0 col3\" >0.03</td> \n",
       "        <td id=\"T_3f92835c_2ff2_11ea_bc58_0019d2e12a2arow0_col4\" class=\"data row0 col4\" >-0.058</td> \n",
       "        <td id=\"T_3f92835c_2ff2_11ea_bc58_0019d2e12a2arow0_col5\" class=\"data row0 col5\" >-0.0017</td> \n",
       "        <td id=\"T_3f92835c_2ff2_11ea_bc58_0019d2e12a2arow0_col6\" class=\"data row0 col6\" >0.013</td> \n",
       "        <td id=\"T_3f92835c_2ff2_11ea_bc58_0019d2e12a2arow0_col7\" class=\"data row0 col7\" >-0.0012</td> \n",
       "        <td id=\"T_3f92835c_2ff2_11ea_bc58_0019d2e12a2arow0_col8\" class=\"data row0 col8\" >-0.034</td> \n",
       "        <td id=\"T_3f92835c_2ff2_11ea_bc58_0019d2e12a2arow0_col9\" class=\"data row0 col9\" >0.022</td> \n",
       "        <td id=\"T_3f92835c_2ff2_11ea_bc58_0019d2e12a2arow0_col10\" class=\"data row0 col10\" >0.043</td> \n",
       "    </tr>    <tr> \n",
       "        <th id=\"T_3f92835c_2ff2_11ea_bc58_0019d2e12a2alevel0_row1\" class=\"row_heading level0 row1\" >Survived</th> \n",
       "        <td id=\"T_3f92835c_2ff2_11ea_bc58_0019d2e12a2arow1_col0\" class=\"data row1 col0\" >-0.005</td> \n",
       "        <td id=\"T_3f92835c_2ff2_11ea_bc58_0019d2e12a2arow1_col1\" class=\"data row1 col1\" >1</td> \n",
       "        <td id=\"T_3f92835c_2ff2_11ea_bc58_0019d2e12a2arow1_col2\" class=\"data row1 col2\" >-0.34</td> \n",
       "        <td id=\"T_3f92835c_2ff2_11ea_bc58_0019d2e12a2arow1_col3\" class=\"data row1 col3\" >-0.076</td> \n",
       "        <td id=\"T_3f92835c_2ff2_11ea_bc58_0019d2e12a2arow1_col4\" class=\"data row1 col4\" >-0.034</td> \n",
       "        <td id=\"T_3f92835c_2ff2_11ea_bc58_0019d2e12a2arow1_col5\" class=\"data row1 col5\" >0.083</td> \n",
       "        <td id=\"T_3f92835c_2ff2_11ea_bc58_0019d2e12a2arow1_col6\" class=\"data row1 col6\" >0.26</td> \n",
       "        <td id=\"T_3f92835c_2ff2_11ea_bc58_0019d2e12a2arow1_col7\" class=\"data row1 col7\" >0.17</td> \n",
       "        <td id=\"T_3f92835c_2ff2_11ea_bc58_0019d2e12a2arow1_col8\" class=\"data row1 col8\" >0.0045</td> \n",
       "        <td id=\"T_3f92835c_2ff2_11ea_bc58_0019d2e12a2arow1_col9\" class=\"data row1 col9\" >-0.15</td> \n",
       "        <td id=\"T_3f92835c_2ff2_11ea_bc58_0019d2e12a2arow1_col10\" class=\"data row1 col10\" >-0.54</td> \n",
       "    </tr>    <tr> \n",
       "        <th id=\"T_3f92835c_2ff2_11ea_bc58_0019d2e12a2alevel0_row2\" class=\"row_heading level0 row2\" >Pclass</th> \n",
       "        <td id=\"T_3f92835c_2ff2_11ea_bc58_0019d2e12a2arow2_col0\" class=\"data row2 col0\" >-0.035</td> \n",
       "        <td id=\"T_3f92835c_2ff2_11ea_bc58_0019d2e12a2arow2_col1\" class=\"data row2 col1\" >-0.34</td> \n",
       "        <td id=\"T_3f92835c_2ff2_11ea_bc58_0019d2e12a2arow2_col2\" class=\"data row2 col2\" >1</td> \n",
       "        <td id=\"T_3f92835c_2ff2_11ea_bc58_0019d2e12a2arow2_col3\" class=\"data row2 col3\" >-0.33</td> \n",
       "        <td id=\"T_3f92835c_2ff2_11ea_bc58_0019d2e12a2arow2_col4\" class=\"data row2 col4\" >0.082</td> \n",
       "        <td id=\"T_3f92835c_2ff2_11ea_bc58_0019d2e12a2arow2_col5\" class=\"data row2 col5\" >0.017</td> \n",
       "        <td id=\"T_3f92835c_2ff2_11ea_bc58_0019d2e12a2arow2_col6\" class=\"data row2 col6\" >-0.55</td> \n",
       "        <td id=\"T_3f92835c_2ff2_11ea_bc58_0019d2e12a2arow2_col7\" class=\"data row2 col7\" >-0.25</td> \n",
       "        <td id=\"T_3f92835c_2ff2_11ea_bc58_0019d2e12a2arow2_col8\" class=\"data row2 col8\" >0.22</td> \n",
       "        <td id=\"T_3f92835c_2ff2_11ea_bc58_0019d2e12a2arow2_col9\" class=\"data row2 col9\" >0.076</td> \n",
       "        <td id=\"T_3f92835c_2ff2_11ea_bc58_0019d2e12a2arow2_col10\" class=\"data row2 col10\" >0.13</td> \n",
       "    </tr>    <tr> \n",
       "        <th id=\"T_3f92835c_2ff2_11ea_bc58_0019d2e12a2alevel0_row3\" class=\"row_heading level0 row3\" >Age</th> \n",
       "        <td id=\"T_3f92835c_2ff2_11ea_bc58_0019d2e12a2arow3_col0\" class=\"data row3 col0\" >0.03</td> \n",
       "        <td id=\"T_3f92835c_2ff2_11ea_bc58_0019d2e12a2arow3_col1\" class=\"data row3 col1\" >-0.076</td> \n",
       "        <td id=\"T_3f92835c_2ff2_11ea_bc58_0019d2e12a2arow3_col2\" class=\"data row3 col2\" >-0.33</td> \n",
       "        <td id=\"T_3f92835c_2ff2_11ea_bc58_0019d2e12a2arow3_col3\" class=\"data row3 col3\" >1</td> \n",
       "        <td id=\"T_3f92835c_2ff2_11ea_bc58_0019d2e12a2arow3_col4\" class=\"data row3 col4\" >-0.23</td> \n",
       "        <td id=\"T_3f92835c_2ff2_11ea_bc58_0019d2e12a2arow3_col5\" class=\"data row3 col5\" >-0.18</td> \n",
       "        <td id=\"T_3f92835c_2ff2_11ea_bc58_0019d2e12a2arow3_col6\" class=\"data row3 col6\" >0.088</td> \n",
       "        <td id=\"T_3f92835c_2ff2_11ea_bc58_0019d2e12a2arow3_col7\" class=\"data row3 col7\" >0.034</td> \n",
       "        <td id=\"T_3f92835c_2ff2_11ea_bc58_0019d2e12a2arow3_col8\" class=\"data row3 col8\" >-0.0097</td> \n",
       "        <td id=\"T_3f92835c_2ff2_11ea_bc58_0019d2e12a2arow3_col9\" class=\"data row3 col9\" >-0.024</td> \n",
       "        <td id=\"T_3f92835c_2ff2_11ea_bc58_0019d2e12a2arow3_col10\" class=\"data row3 col10\" >0.09</td> \n",
       "    </tr>    <tr> \n",
       "        <th id=\"T_3f92835c_2ff2_11ea_bc58_0019d2e12a2alevel0_row4\" class=\"row_heading level0 row4\" >SibSp</th> \n",
       "        <td id=\"T_3f92835c_2ff2_11ea_bc58_0019d2e12a2arow4_col0\" class=\"data row4 col0\" >-0.058</td> \n",
       "        <td id=\"T_3f92835c_2ff2_11ea_bc58_0019d2e12a2arow4_col1\" class=\"data row4 col1\" >-0.034</td> \n",
       "        <td id=\"T_3f92835c_2ff2_11ea_bc58_0019d2e12a2arow4_col2\" class=\"data row4 col2\" >0.082</td> \n",
       "        <td id=\"T_3f92835c_2ff2_11ea_bc58_0019d2e12a2arow4_col3\" class=\"data row4 col3\" >-0.23</td> \n",
       "        <td id=\"T_3f92835c_2ff2_11ea_bc58_0019d2e12a2arow4_col4\" class=\"data row4 col4\" >1</td> \n",
       "        <td id=\"T_3f92835c_2ff2_11ea_bc58_0019d2e12a2arow4_col5\" class=\"data row4 col5\" >0.41</td> \n",
       "        <td id=\"T_3f92835c_2ff2_11ea_bc58_0019d2e12a2arow4_col6\" class=\"data row4 col6\" >0.16</td> \n",
       "        <td id=\"T_3f92835c_2ff2_11ea_bc58_0019d2e12a2arow4_col7\" class=\"data row4 col7\" >-0.06</td> \n",
       "        <td id=\"T_3f92835c_2ff2_11ea_bc58_0019d2e12a2arow4_col8\" class=\"data row4 col8\" >-0.027</td> \n",
       "        <td id=\"T_3f92835c_2ff2_11ea_bc58_0019d2e12a2arow4_col9\" class=\"data row4 col9\" >0.069</td> \n",
       "        <td id=\"T_3f92835c_2ff2_11ea_bc58_0019d2e12a2arow4_col10\" class=\"data row4 col10\" >-0.12</td> \n",
       "    </tr>    <tr> \n",
       "        <th id=\"T_3f92835c_2ff2_11ea_bc58_0019d2e12a2alevel0_row5\" class=\"row_heading level0 row5\" >Parch</th> \n",
       "        <td id=\"T_3f92835c_2ff2_11ea_bc58_0019d2e12a2arow5_col0\" class=\"data row5 col0\" >-0.0017</td> \n",
       "        <td id=\"T_3f92835c_2ff2_11ea_bc58_0019d2e12a2arow5_col1\" class=\"data row5 col1\" >0.083</td> \n",
       "        <td id=\"T_3f92835c_2ff2_11ea_bc58_0019d2e12a2arow5_col2\" class=\"data row5 col2\" >0.017</td> \n",
       "        <td id=\"T_3f92835c_2ff2_11ea_bc58_0019d2e12a2arow5_col3\" class=\"data row5 col3\" >-0.18</td> \n",
       "        <td id=\"T_3f92835c_2ff2_11ea_bc58_0019d2e12a2arow5_col4\" class=\"data row5 col4\" >0.41</td> \n",
       "        <td id=\"T_3f92835c_2ff2_11ea_bc58_0019d2e12a2arow5_col5\" class=\"data row5 col5\" >1</td> \n",
       "        <td id=\"T_3f92835c_2ff2_11ea_bc58_0019d2e12a2arow5_col6\" class=\"data row5 col6\" >0.22</td> \n",
       "        <td id=\"T_3f92835c_2ff2_11ea_bc58_0019d2e12a2arow5_col7\" class=\"data row5 col7\" >-0.012</td> \n",
       "        <td id=\"T_3f92835c_2ff2_11ea_bc58_0019d2e12a2arow5_col8\" class=\"data row5 col8\" >-0.082</td> \n",
       "        <td id=\"T_3f92835c_2ff2_11ea_bc58_0019d2e12a2arow5_col9\" class=\"data row5 col9\" >0.062</td> \n",
       "        <td id=\"T_3f92835c_2ff2_11ea_bc58_0019d2e12a2arow5_col10\" class=\"data row5 col10\" >-0.25</td> \n",
       "    </tr>    <tr> \n",
       "        <th id=\"T_3f92835c_2ff2_11ea_bc58_0019d2e12a2alevel0_row6\" class=\"row_heading level0 row6\" >Fare</th> \n",
       "        <td id=\"T_3f92835c_2ff2_11ea_bc58_0019d2e12a2arow6_col0\" class=\"data row6 col0\" >0.013</td> \n",
       "        <td id=\"T_3f92835c_2ff2_11ea_bc58_0019d2e12a2arow6_col1\" class=\"data row6 col1\" >0.26</td> \n",
       "        <td id=\"T_3f92835c_2ff2_11ea_bc58_0019d2e12a2arow6_col2\" class=\"data row6 col2\" >-0.55</td> \n",
       "        <td id=\"T_3f92835c_2ff2_11ea_bc58_0019d2e12a2arow6_col3\" class=\"data row6 col3\" >0.088</td> \n",
       "        <td id=\"T_3f92835c_2ff2_11ea_bc58_0019d2e12a2arow6_col4\" class=\"data row6 col4\" >0.16</td> \n",
       "        <td id=\"T_3f92835c_2ff2_11ea_bc58_0019d2e12a2arow6_col5\" class=\"data row6 col5\" >0.22</td> \n",
       "        <td id=\"T_3f92835c_2ff2_11ea_bc58_0019d2e12a2arow6_col6\" class=\"data row6 col6\" >1</td> \n",
       "        <td id=\"T_3f92835c_2ff2_11ea_bc58_0019d2e12a2arow6_col7\" class=\"data row6 col7\" >0.27</td> \n",
       "        <td id=\"T_3f92835c_2ff2_11ea_bc58_0019d2e12a2arow6_col8\" class=\"data row6 col8\" >-0.12</td> \n",
       "        <td id=\"T_3f92835c_2ff2_11ea_bc58_0019d2e12a2arow6_col9\" class=\"data row6 col9\" >-0.16</td> \n",
       "        <td id=\"T_3f92835c_2ff2_11ea_bc58_0019d2e12a2arow6_col10\" class=\"data row6 col10\" >-0.18</td> \n",
       "    </tr>    <tr> \n",
       "        <th id=\"T_3f92835c_2ff2_11ea_bc58_0019d2e12a2alevel0_row7\" class=\"row_heading level0 row7\" >c</th> \n",
       "        <td id=\"T_3f92835c_2ff2_11ea_bc58_0019d2e12a2arow7_col0\" class=\"data row7 col0\" >-0.0012</td> \n",
       "        <td id=\"T_3f92835c_2ff2_11ea_bc58_0019d2e12a2arow7_col1\" class=\"data row7 col1\" >0.17</td> \n",
       "        <td id=\"T_3f92835c_2ff2_11ea_bc58_0019d2e12a2arow7_col2\" class=\"data row7 col2\" >-0.25</td> \n",
       "        <td id=\"T_3f92835c_2ff2_11ea_bc58_0019d2e12a2arow7_col3\" class=\"data row7 col3\" >0.034</td> \n",
       "        <td id=\"T_3f92835c_2ff2_11ea_bc58_0019d2e12a2arow7_col4\" class=\"data row7 col4\" >-0.06</td> \n",
       "        <td id=\"T_3f92835c_2ff2_11ea_bc58_0019d2e12a2arow7_col5\" class=\"data row7 col5\" >-0.012</td> \n",
       "        <td id=\"T_3f92835c_2ff2_11ea_bc58_0019d2e12a2arow7_col6\" class=\"data row7 col6\" >0.27</td> \n",
       "        <td id=\"T_3f92835c_2ff2_11ea_bc58_0019d2e12a2arow7_col7\" class=\"data row7 col7\" >1</td> \n",
       "        <td id=\"T_3f92835c_2ff2_11ea_bc58_0019d2e12a2arow7_col8\" class=\"data row7 col8\" >-0.15</td> \n",
       "        <td id=\"T_3f92835c_2ff2_11ea_bc58_0019d2e12a2arow7_col9\" class=\"data row7 col9\" >-0.78</td> \n",
       "        <td id=\"T_3f92835c_2ff2_11ea_bc58_0019d2e12a2arow7_col10\" class=\"data row7 col10\" >-0.085</td> \n",
       "    </tr>    <tr> \n",
       "        <th id=\"T_3f92835c_2ff2_11ea_bc58_0019d2e12a2alevel0_row8\" class=\"row_heading level0 row8\" >Q</th> \n",
       "        <td id=\"T_3f92835c_2ff2_11ea_bc58_0019d2e12a2arow8_col0\" class=\"data row8 col0\" >-0.034</td> \n",
       "        <td id=\"T_3f92835c_2ff2_11ea_bc58_0019d2e12a2arow8_col1\" class=\"data row8 col1\" >0.0045</td> \n",
       "        <td id=\"T_3f92835c_2ff2_11ea_bc58_0019d2e12a2arow8_col2\" class=\"data row8 col2\" >0.22</td> \n",
       "        <td id=\"T_3f92835c_2ff2_11ea_bc58_0019d2e12a2arow8_col3\" class=\"data row8 col3\" >-0.0097</td> \n",
       "        <td id=\"T_3f92835c_2ff2_11ea_bc58_0019d2e12a2arow8_col4\" class=\"data row8 col4\" >-0.027</td> \n",
       "        <td id=\"T_3f92835c_2ff2_11ea_bc58_0019d2e12a2arow8_col5\" class=\"data row8 col5\" >-0.082</td> \n",
       "        <td id=\"T_3f92835c_2ff2_11ea_bc58_0019d2e12a2arow8_col6\" class=\"data row8 col6\" >-0.12</td> \n",
       "        <td id=\"T_3f92835c_2ff2_11ea_bc58_0019d2e12a2arow8_col7\" class=\"data row8 col7\" >-0.15</td> \n",
       "        <td id=\"T_3f92835c_2ff2_11ea_bc58_0019d2e12a2arow8_col8\" class=\"data row8 col8\" >1</td> \n",
       "        <td id=\"T_3f92835c_2ff2_11ea_bc58_0019d2e12a2arow8_col9\" class=\"data row8 col9\" >-0.5</td> \n",
       "        <td id=\"T_3f92835c_2ff2_11ea_bc58_0019d2e12a2arow8_col10\" class=\"data row8 col10\" >-0.075</td> \n",
       "    </tr>    <tr> \n",
       "        <th id=\"T_3f92835c_2ff2_11ea_bc58_0019d2e12a2alevel0_row9\" class=\"row_heading level0 row9\" >S</th> \n",
       "        <td id=\"T_3f92835c_2ff2_11ea_bc58_0019d2e12a2arow9_col0\" class=\"data row9 col0\" >0.022</td> \n",
       "        <td id=\"T_3f92835c_2ff2_11ea_bc58_0019d2e12a2arow9_col1\" class=\"data row9 col1\" >-0.15</td> \n",
       "        <td id=\"T_3f92835c_2ff2_11ea_bc58_0019d2e12a2arow9_col2\" class=\"data row9 col2\" >0.076</td> \n",
       "        <td id=\"T_3f92835c_2ff2_11ea_bc58_0019d2e12a2arow9_col3\" class=\"data row9 col3\" >-0.024</td> \n",
       "        <td id=\"T_3f92835c_2ff2_11ea_bc58_0019d2e12a2arow9_col4\" class=\"data row9 col4\" >0.069</td> \n",
       "        <td id=\"T_3f92835c_2ff2_11ea_bc58_0019d2e12a2arow9_col5\" class=\"data row9 col5\" >0.062</td> \n",
       "        <td id=\"T_3f92835c_2ff2_11ea_bc58_0019d2e12a2arow9_col6\" class=\"data row9 col6\" >-0.16</td> \n",
       "        <td id=\"T_3f92835c_2ff2_11ea_bc58_0019d2e12a2arow9_col7\" class=\"data row9 col7\" >-0.78</td> \n",
       "        <td id=\"T_3f92835c_2ff2_11ea_bc58_0019d2e12a2arow9_col8\" class=\"data row9 col8\" >-0.5</td> \n",
       "        <td id=\"T_3f92835c_2ff2_11ea_bc58_0019d2e12a2arow9_col9\" class=\"data row9 col9\" >1</td> \n",
       "        <td id=\"T_3f92835c_2ff2_11ea_bc58_0019d2e12a2arow9_col10\" class=\"data row9 col10\" >0.12</td> \n",
       "    </tr>    <tr> \n",
       "        <th id=\"T_3f92835c_2ff2_11ea_bc58_0019d2e12a2alevel0_row10\" class=\"row_heading level0 row10\" >male_gender</th> \n",
       "        <td id=\"T_3f92835c_2ff2_11ea_bc58_0019d2e12a2arow10_col0\" class=\"data row10 col0\" >0.043</td> \n",
       "        <td id=\"T_3f92835c_2ff2_11ea_bc58_0019d2e12a2arow10_col1\" class=\"data row10 col1\" >-0.54</td> \n",
       "        <td id=\"T_3f92835c_2ff2_11ea_bc58_0019d2e12a2arow10_col2\" class=\"data row10 col2\" >0.13</td> \n",
       "        <td id=\"T_3f92835c_2ff2_11ea_bc58_0019d2e12a2arow10_col3\" class=\"data row10 col3\" >0.09</td> \n",
       "        <td id=\"T_3f92835c_2ff2_11ea_bc58_0019d2e12a2arow10_col4\" class=\"data row10 col4\" >-0.12</td> \n",
       "        <td id=\"T_3f92835c_2ff2_11ea_bc58_0019d2e12a2arow10_col5\" class=\"data row10 col5\" >-0.25</td> \n",
       "        <td id=\"T_3f92835c_2ff2_11ea_bc58_0019d2e12a2arow10_col6\" class=\"data row10 col6\" >-0.18</td> \n",
       "        <td id=\"T_3f92835c_2ff2_11ea_bc58_0019d2e12a2arow10_col7\" class=\"data row10 col7\" >-0.085</td> \n",
       "        <td id=\"T_3f92835c_2ff2_11ea_bc58_0019d2e12a2arow10_col8\" class=\"data row10 col8\" >-0.075</td> \n",
       "        <td id=\"T_3f92835c_2ff2_11ea_bc58_0019d2e12a2arow10_col9\" class=\"data row10 col9\" >0.12</td> \n",
       "        <td id=\"T_3f92835c_2ff2_11ea_bc58_0019d2e12a2arow10_col10\" class=\"data row10 col10\" >1</td> \n",
       "    </tr></tbody> \n",
       "</table> "
      ],
      "text/plain": [
       "<pandas.io.formats.style.Styler at 0x297a2cbefd0>"
      ]
     },
     "execution_count": 37,
     "metadata": {},
     "output_type": "execute_result"
    }
   ],
   "source": [
    "corr = titanic_dmy.corr()\n",
    "corr.style.background_gradient(cmap='coolwarm').set_precision(2)"
   ]
  },
  {
   "cell_type": "markdown",
   "metadata": {},
   "source": [
    "##### fare and pclass are not independent of one another"
   ]
  },
  {
   "cell_type": "code",
   "execution_count": 38,
   "metadata": {},
   "outputs": [
    {
     "data": {
      "text/html": [
       "<div>\n",
       "<style scoped>\n",
       "    .dataframe tbody tr th:only-of-type {\n",
       "        vertical-align: middle;\n",
       "    }\n",
       "\n",
       "    .dataframe tbody tr th {\n",
       "        vertical-align: top;\n",
       "    }\n",
       "\n",
       "    .dataframe thead th {\n",
       "        text-align: right;\n",
       "    }\n",
       "</style>\n",
       "<table border=\"1\" class=\"dataframe\">\n",
       "  <thead>\n",
       "    <tr style=\"text-align: right;\">\n",
       "      <th></th>\n",
       "      <th>PassengerId</th>\n",
       "      <th>Survived</th>\n",
       "      <th>Age</th>\n",
       "      <th>SibSp</th>\n",
       "      <th>Parch</th>\n",
       "      <th>c</th>\n",
       "      <th>Q</th>\n",
       "      <th>S</th>\n",
       "      <th>male_gender</th>\n",
       "    </tr>\n",
       "  </thead>\n",
       "  <tbody>\n",
       "    <tr>\n",
       "      <th>0</th>\n",
       "      <td>1.0</td>\n",
       "      <td>0.0</td>\n",
       "      <td>22.0</td>\n",
       "      <td>1.0</td>\n",
       "      <td>0.0</td>\n",
       "      <td>0.0</td>\n",
       "      <td>0.0</td>\n",
       "      <td>1.0</td>\n",
       "      <td>1.0</td>\n",
       "    </tr>\n",
       "    <tr>\n",
       "      <th>1</th>\n",
       "      <td>2.0</td>\n",
       "      <td>1.0</td>\n",
       "      <td>38.0</td>\n",
       "      <td>1.0</td>\n",
       "      <td>0.0</td>\n",
       "      <td>1.0</td>\n",
       "      <td>0.0</td>\n",
       "      <td>0.0</td>\n",
       "      <td>0.0</td>\n",
       "    </tr>\n",
       "    <tr>\n",
       "      <th>2</th>\n",
       "      <td>3.0</td>\n",
       "      <td>1.0</td>\n",
       "      <td>26.0</td>\n",
       "      <td>0.0</td>\n",
       "      <td>0.0</td>\n",
       "      <td>0.0</td>\n",
       "      <td>0.0</td>\n",
       "      <td>1.0</td>\n",
       "      <td>0.0</td>\n",
       "    </tr>\n",
       "    <tr>\n",
       "      <th>3</th>\n",
       "      <td>4.0</td>\n",
       "      <td>1.0</td>\n",
       "      <td>35.0</td>\n",
       "      <td>1.0</td>\n",
       "      <td>0.0</td>\n",
       "      <td>0.0</td>\n",
       "      <td>0.0</td>\n",
       "      <td>1.0</td>\n",
       "      <td>0.0</td>\n",
       "    </tr>\n",
       "    <tr>\n",
       "      <th>4</th>\n",
       "      <td>5.0</td>\n",
       "      <td>0.0</td>\n",
       "      <td>35.0</td>\n",
       "      <td>0.0</td>\n",
       "      <td>0.0</td>\n",
       "      <td>0.0</td>\n",
       "      <td>0.0</td>\n",
       "      <td>1.0</td>\n",
       "      <td>1.0</td>\n",
       "    </tr>\n",
       "  </tbody>\n",
       "</table>\n",
       "</div>"
      ],
      "text/plain": [
       "   PassengerId  Survived   Age  SibSp  Parch    c    Q    S  male_gender\n",
       "0          1.0       0.0  22.0    1.0    0.0  0.0  0.0  1.0          1.0\n",
       "1          2.0       1.0  38.0    1.0    0.0  1.0  0.0  0.0          0.0\n",
       "2          3.0       1.0  26.0    0.0    0.0  0.0  0.0  1.0          0.0\n",
       "3          4.0       1.0  35.0    1.0    0.0  0.0  0.0  1.0          0.0\n",
       "4          5.0       0.0  35.0    0.0    0.0  0.0  0.0  1.0          1.0"
      ]
     },
     "execution_count": 38,
     "metadata": {},
     "output_type": "execute_result"
    }
   ],
   "source": [
    "titanic_dmy.drop(['Fare','Pclass'], axis =1, inplace=True)\n",
    "titanic_dmy.head()"
   ]
  },
  {
   "cell_type": "markdown",
   "metadata": {},
   "source": [
    "## Split data"
   ]
  },
  {
   "cell_type": "code",
   "execution_count": 40,
   "metadata": {},
   "outputs": [],
   "source": [
    "x_train,x_test,y_train,y_test = train_test_split(titanic_dmy.drop('Survived', axis=1),\n",
    "                                                titanic_dmy['Survived'], test_size=0.2,\n",
    "                                                random_state=200)"
   ]
  },
  {
   "cell_type": "code",
   "execution_count": 41,
   "metadata": {},
   "outputs": [
    {
     "name": "stdout",
     "output_type": "stream",
     "text": [
      "(711, 8)\n",
      "(711,)\n"
     ]
    }
   ],
   "source": [
    "print(x_train.shape)\n",
    "print(y_train.shape)"
   ]
  },
  {
   "cell_type": "code",
   "execution_count": 42,
   "metadata": {},
   "outputs": [
    {
     "data": {
      "text/html": [
       "<div>\n",
       "<style scoped>\n",
       "    .dataframe tbody tr th:only-of-type {\n",
       "        vertical-align: middle;\n",
       "    }\n",
       "\n",
       "    .dataframe tbody tr th {\n",
       "        vertical-align: top;\n",
       "    }\n",
       "\n",
       "    .dataframe thead th {\n",
       "        text-align: right;\n",
       "    }\n",
       "</style>\n",
       "<table border=\"1\" class=\"dataframe\">\n",
       "  <thead>\n",
       "    <tr style=\"text-align: right;\">\n",
       "      <th></th>\n",
       "      <th>PassengerId</th>\n",
       "      <th>Age</th>\n",
       "      <th>SibSp</th>\n",
       "      <th>Parch</th>\n",
       "      <th>c</th>\n",
       "      <th>Q</th>\n",
       "      <th>S</th>\n",
       "      <th>male_gender</th>\n",
       "    </tr>\n",
       "  </thead>\n",
       "  <tbody>\n",
       "    <tr>\n",
       "      <th>719</th>\n",
       "      <td>721.0</td>\n",
       "      <td>6.0</td>\n",
       "      <td>0.0</td>\n",
       "      <td>1.0</td>\n",
       "      <td>0.0</td>\n",
       "      <td>0.0</td>\n",
       "      <td>1.0</td>\n",
       "      <td>0.0</td>\n",
       "    </tr>\n",
       "    <tr>\n",
       "      <th>165</th>\n",
       "      <td>167.0</td>\n",
       "      <td>30.0</td>\n",
       "      <td>0.0</td>\n",
       "      <td>1.0</td>\n",
       "      <td>0.0</td>\n",
       "      <td>0.0</td>\n",
       "      <td>1.0</td>\n",
       "      <td>0.0</td>\n",
       "    </tr>\n",
       "    <tr>\n",
       "      <th>879</th>\n",
       "      <td>882.0</td>\n",
       "      <td>33.0</td>\n",
       "      <td>0.0</td>\n",
       "      <td>0.0</td>\n",
       "      <td>0.0</td>\n",
       "      <td>0.0</td>\n",
       "      <td>1.0</td>\n",
       "      <td>1.0</td>\n",
       "    </tr>\n",
       "    <tr>\n",
       "      <th>451</th>\n",
       "      <td>453.0</td>\n",
       "      <td>30.0</td>\n",
       "      <td>0.0</td>\n",
       "      <td>0.0</td>\n",
       "      <td>1.0</td>\n",
       "      <td>0.0</td>\n",
       "      <td>0.0</td>\n",
       "      <td>1.0</td>\n",
       "    </tr>\n",
       "    <tr>\n",
       "      <th>181</th>\n",
       "      <td>183.0</td>\n",
       "      <td>9.0</td>\n",
       "      <td>4.0</td>\n",
       "      <td>2.0</td>\n",
       "      <td>0.0</td>\n",
       "      <td>0.0</td>\n",
       "      <td>1.0</td>\n",
       "      <td>1.0</td>\n",
       "    </tr>\n",
       "  </tbody>\n",
       "</table>\n",
       "</div>"
      ],
      "text/plain": [
       "     PassengerId   Age  SibSp  Parch    c    Q    S  male_gender\n",
       "719        721.0   6.0    0.0    1.0  0.0  0.0  1.0          0.0\n",
       "165        167.0  30.0    0.0    1.0  0.0  0.0  1.0          0.0\n",
       "879        882.0  33.0    0.0    0.0  0.0  0.0  1.0          1.0\n",
       "451        453.0  30.0    0.0    0.0  1.0  0.0  0.0          1.0\n",
       "181        183.0   9.0    4.0    2.0  0.0  0.0  1.0          1.0"
      ]
     },
     "execution_count": 42,
     "metadata": {},
     "output_type": "execute_result"
    }
   ],
   "source": [
    "x_train[0:5]"
   ]
  },
  {
   "cell_type": "markdown",
   "metadata": {},
   "source": [
    "## Model creation"
   ]
  },
  {
   "cell_type": "code",
   "execution_count": 43,
   "metadata": {},
   "outputs": [
    {
     "data": {
      "text/plain": [
       "LogisticRegression(C=1.0, class_weight=None, dual=False, fit_intercept=True,\n",
       "          intercept_scaling=1, max_iter=100, multi_class='warn',\n",
       "          n_jobs=None, penalty='l2', random_state=None, solver='liblinear',\n",
       "          tol=0.0001, verbose=0, warm_start=False)"
      ]
     },
     "execution_count": 43,
     "metadata": {},
     "output_type": "execute_result"
    }
   ],
   "source": [
    "LogReg = LogisticRegression(solver='liblinear')\n",
    "LogReg.fit(x_train,y_train)"
   ]
  },
  {
   "cell_type": "markdown",
   "metadata": {},
   "source": [
    "#### use the model to make a prediction"
   ]
  },
  {
   "cell_type": "code",
   "execution_count": 62,
   "metadata": {},
   "outputs": [],
   "source": [
    "y_pred =LogReg.predict(x_test)"
   ]
  },
  {
   "cell_type": "markdown",
   "metadata": {},
   "source": [
    "## Model Evaluation\n",
    "### Classification report without cross-validation"
   ]
  },
  {
   "cell_type": "code",
   "execution_count": 45,
   "metadata": {},
   "outputs": [
    {
     "name": "stdout",
     "output_type": "stream",
     "text": [
      "              precision    recall  f1-score   support\n",
      "\n",
      "         0.0       0.83      0.88      0.85       109\n",
      "         1.0       0.79      0.71      0.75        69\n",
      "\n",
      "   micro avg       0.81      0.81      0.81       178\n",
      "   macro avg       0.81      0.80      0.80       178\n",
      "weighted avg       0.81      0.81      0.81       178\n",
      "\n"
     ]
    }
   ],
   "source": [
    "print(classification_report(y_test,y_pred))"
   ]
  },
  {
   "cell_type": "markdown",
   "metadata": {},
   "source": [
    "### K-fold cross-validation & confusion matrices"
   ]
  },
  {
   "cell_type": "code",
   "execution_count": 46,
   "metadata": {},
   "outputs": [
    {
     "data": {
      "text/plain": [
       "array([[377,  63],\n",
       "       [ 91, 180]], dtype=int64)"
      ]
     },
     "execution_count": 46,
     "metadata": {},
     "output_type": "execute_result"
    }
   ],
   "source": [
    "y_train_pred =cross_val_predict(LogReg, x_train, y_train, cv=5)\n",
    "confusion_matrix(y_train, y_train_pred)"
   ]
  },
  {
   "cell_type": "markdown",
   "metadata": {},
   "source": [
    "##### correct predictions = 377 and 180  | incorrect predictions=91 and 63"
   ]
  },
  {
   "cell_type": "code",
   "execution_count": 47,
   "metadata": {},
   "outputs": [
    {
     "data": {
      "text/plain": [
       "0.7407407407407407"
      ]
     },
     "execution_count": 47,
     "metadata": {},
     "output_type": "execute_result"
    }
   ],
   "source": [
    "precision_score(y_train, y_train_pred)"
   ]
  },
  {
   "cell_type": "markdown",
   "metadata": {},
   "source": [
    "### Test prediction"
   ]
  },
  {
   "cell_type": "code",
   "execution_count": 57,
   "metadata": {},
   "outputs": [
    {
     "data": {
      "text/html": [
       "<div>\n",
       "<style scoped>\n",
       "    .dataframe tbody tr th:only-of-type {\n",
       "        vertical-align: middle;\n",
       "    }\n",
       "\n",
       "    .dataframe tbody tr th {\n",
       "        vertical-align: top;\n",
       "    }\n",
       "\n",
       "    .dataframe thead th {\n",
       "        text-align: right;\n",
       "    }\n",
       "</style>\n",
       "<table border=\"1\" class=\"dataframe\">\n",
       "  <thead>\n",
       "    <tr style=\"text-align: right;\">\n",
       "      <th></th>\n",
       "      <th>PassengerId</th>\n",
       "      <th>Survived</th>\n",
       "      <th>Age</th>\n",
       "      <th>SibSp</th>\n",
       "      <th>Parch</th>\n",
       "      <th>c</th>\n",
       "      <th>Q</th>\n",
       "      <th>S</th>\n",
       "      <th>male_gender</th>\n",
       "    </tr>\n",
       "  </thead>\n",
       "  <tbody>\n",
       "    <tr>\n",
       "      <th>52</th>\n",
       "      <td>53.0</td>\n",
       "      <td>1.0</td>\n",
       "      <td>49.0</td>\n",
       "      <td>1.0</td>\n",
       "      <td>0.0</td>\n",
       "      <td>1.0</td>\n",
       "      <td>0.0</td>\n",
       "      <td>0.0</td>\n",
       "      <td>0.0</td>\n",
       "    </tr>\n",
       "  </tbody>\n",
       "</table>\n",
       "</div>"
      ],
      "text/plain": [
       "    PassengerId  Survived   Age  SibSp  Parch    c    Q    S  male_gender\n",
       "52         53.0       1.0  49.0    1.0    0.0  1.0  0.0  0.0          0.0"
      ]
     },
     "execution_count": 57,
     "metadata": {},
     "output_type": "execute_result"
    }
   ],
   "source": [
    "titanic_dmy[52:53]"
   ]
  },
  {
   "cell_type": "code",
   "execution_count": 63,
   "metadata": {
    "scrolled": true
   },
   "outputs": [
    {
     "name": "stdout",
     "output_type": "stream",
     "text": [
      "[1.]\n",
      "[[0.22282159 0.77717841]]\n"
     ]
    }
   ],
   "source": [
    "test_passenger =np.array([53,42,1,0,1,0,0,0]).reshape(1,-1)\n",
    "print(LogReg.predict(test_passenger))\n",
    "print(LogReg.predict_proba(test_passenger))"
   ]
  },
  {
   "cell_type": "markdown",
   "metadata": {},
   "source": [
    "### our model predicts that our test_passenger with a different age will survive with an approximate precission of 78%"
   ]
  },
  {
   "cell_type": "code",
   "execution_count": null,
   "metadata": {},
   "outputs": [],
   "source": []
  }
 ],
 "metadata": {
  "kernelspec": {
   "display_name": "Python 3",
   "language": "python",
   "name": "python3"
  },
  "language_info": {
   "codemirror_mode": {
    "name": "ipython",
    "version": 3
   },
   "file_extension": ".py",
   "mimetype": "text/x-python",
   "name": "python",
   "nbconvert_exporter": "python",
   "pygments_lexer": "ipython3",
   "version": "3.5.5"
  }
 },
 "nbformat": 4,
 "nbformat_minor": 1
}
